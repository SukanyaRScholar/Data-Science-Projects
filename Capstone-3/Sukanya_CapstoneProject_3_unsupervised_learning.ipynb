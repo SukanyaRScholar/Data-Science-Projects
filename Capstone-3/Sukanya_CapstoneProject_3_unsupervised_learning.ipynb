{
  "nbformat": 4,
  "nbformat_minor": 0,
  "metadata": {
    "colab": {
      "provenance": [],
      "gpuType": "T4"
    },
    "kernelspec": {
      "name": "python3",
      "display_name": "Python 3"
    },
    "language_info": {
      "name": "python"
    },
    "accelerator": "GPU"
  },
  "cells": [
    {
      "cell_type": "markdown",
      "source": [
        "NJ Transit + Amtrak (NEC) Rail Performance\n",
        "\n",
        "Research Topic:\n",
        "\n",
        "The analysis is aimed to cluster train delay data from NJ Transit to uncover patterns and insights related to delays. Unsupervised learning techniques, including K-means clustering with PCA and Gaussian Mixture Model (GMM) clustering with t-SNE, were employed to segment the data into distinct clusters. The analysis also investigated which clusters exhibited the most significant delays on Fridays and during rush hours on weekdays."
      ],
      "metadata": {
        "id": "rHDebRK1Mo7z"
      }
    },
    {
      "cell_type": "markdown",
      "source": [
        "The data set used is NJ Transit + Amtrak (NEC) Rail Performance\n",
        "Link: https://www.kaggle.com/datasets/pranavbadami/nj-transit-amtrak-nec-performance/data\n",
        "\n",
        "The dataset has about 27 date files. The data set under consideration is 2020 May dataset. The data has 98698 records and 13 columns."
      ],
      "metadata": {
        "id": "ms39ZYflsY4V"
      }
    },
    {
      "cell_type": "code",
      "source": [
        "#imports\n",
        "\n",
        "import os\n",
        "import pandas as pd\n",
        "import glob\n",
        "import pandas as pd\n",
        "import numpy as np\n",
        "import matplotlib.pyplot as plt\n",
        "import seaborn as sns\n",
        "from sklearn.preprocessing import StandardScaler\n",
        "from sklearn.impute import SimpleImputer\n",
        "from sklearn.decomposition import PCA\n",
        "from sklearn.cluster import KMeans\n",
        "from sklearn.manifold import TSNE\n",
        "from sklearn.mixture import GaussianMixture\n",
        "from sklearn.metrics import silhouette_score\n",
        "from sklearn.pipeline import Pipeline\n",
        "from sklearn.preprocessing import StandardScaler, OneHotEncoder\n",
        "from sklearn.compose import ColumnTransformer\n",
        "from sklearn.decomposition import TruncatedSVD\n",
        "\n",
        "# from sklearn.cluster import KMeans\n",
        "# from sklearn.metrics import silhouette_score\n",
        "# from sklearn.pipeline import Pipeline\n",
        "# from sklearn.preprocessing import StandardScaler\n",
        "# from sklearn.decomposition import PCA\n",
        "\n",
        "# from sklearn.pipeline import Pipeline\n",
        "# from sklearn.preprocessing import StandardScaler\n",
        "# from sklearn.mixture import GaussianMixture\n",
        "# from sklearn.metrics import silhouette_score"
      ],
      "metadata": {
        "id": "sWBGp2wWQoqT"
      },
      "execution_count": 61,
      "outputs": []
    },
    {
      "cell_type": "code",
      "source": [
        "# data_folder_path = '/content/drive/MyDrive/Data Science/archive-2'\n",
        "\n",
        "# dfs=[]\n",
        "\n",
        "# file_path=glob.glob(os.path.join(data_folder_path, '2020_*.csv'))\n",
        "\n",
        "# for filename in file_path:\n",
        "#   # Read the CSV file and append it to the list\n",
        "#       df = pd.read_csv(filename)\n",
        "#       dfs.append(df)\n",
        "\n",
        "# # Concatenate all DataFrames into a single DataFrame\n",
        "# data = pd.concat(dfs, ignore_index=True)\n",
        "\n",
        "data=pd.read_csv('/content/drive/MyDrive/Data Science/archive-2/2020_05.csv')\n"
      ],
      "metadata": {
        "id": "wyIvjfV_Ms_t"
      },
      "execution_count": 62,
      "outputs": []
    },
    {
      "cell_type": "code",
      "source": [
        "data.count()"
      ],
      "metadata": {
        "colab": {
          "base_uri": "https://localhost:8080/"
        },
        "id": "ydgj6OYdOLk6",
        "outputId": "b0c0a2c8-f7bd-46e4-c888-dd2e0673cd85"
      },
      "execution_count": 63,
      "outputs": [
        {
          "output_type": "execute_result",
          "data": {
            "text/plain": [
              "date              98698\n",
              "train_id          98698\n",
              "stop_sequence     87172\n",
              "from              98698\n",
              "from_id           98698\n",
              "to                98698\n",
              "to_id             98698\n",
              "scheduled_time    87172\n",
              "actual_time       98698\n",
              "delay_minutes     87172\n",
              "status            98698\n",
              "line              98698\n",
              "type              98698\n",
              "dtype: int64"
            ]
          },
          "metadata": {},
          "execution_count": 63
        }
      ]
    },
    {
      "cell_type": "code",
      "source": [
        "data.shape"
      ],
      "metadata": {
        "colab": {
          "base_uri": "https://localhost:8080/"
        },
        "id": "WfiOsVIKQVLd",
        "outputId": "69b43346-11bc-4c64-ccdb-eab89857d7c9"
      },
      "execution_count": 64,
      "outputs": [
        {
          "output_type": "execute_result",
          "data": {
            "text/plain": [
              "(98698, 13)"
            ]
          },
          "metadata": {},
          "execution_count": 64
        }
      ]
    },
    {
      "cell_type": "code",
      "source": [
        "data.describe()"
      ],
      "metadata": {
        "colab": {
          "base_uri": "https://localhost:8080/",
          "height": 297
        },
        "id": "RhlhP0JkQ37G",
        "outputId": "7f45cf68-c5c1-4c72-cf7a-6216b3794a55"
      },
      "execution_count": 65,
      "outputs": [
        {
          "output_type": "execute_result",
          "data": {
            "text/plain": [
              "       stop_sequence       from_id         to_id  delay_minutes\n",
              "count   87172.000000  98698.000000  98698.000000   87172.000000\n",
              "mean        8.046907   4118.725688   4132.612606       3.281289\n",
              "std         4.984259  11702.316235  11720.132745      10.253101\n",
              "min         1.000000      1.000000      1.000000       0.000000\n",
              "25%         4.000000     49.000000     49.000000       0.116667\n",
              "50%         8.000000    102.000000    102.000000       1.200000\n",
              "75%        11.000000    132.000000    132.000000       3.083333\n",
              "max        26.000000  43599.000000  43599.000000     182.000000"
            ],
            "text/html": [
              "\n",
              "  <div id=\"df-62e52924-6230-4400-af56-c4e46c37101f\" class=\"colab-df-container\">\n",
              "    <div>\n",
              "<style scoped>\n",
              "    .dataframe tbody tr th:only-of-type {\n",
              "        vertical-align: middle;\n",
              "    }\n",
              "\n",
              "    .dataframe tbody tr th {\n",
              "        vertical-align: top;\n",
              "    }\n",
              "\n",
              "    .dataframe thead th {\n",
              "        text-align: right;\n",
              "    }\n",
              "</style>\n",
              "<table border=\"1\" class=\"dataframe\">\n",
              "  <thead>\n",
              "    <tr style=\"text-align: right;\">\n",
              "      <th></th>\n",
              "      <th>stop_sequence</th>\n",
              "      <th>from_id</th>\n",
              "      <th>to_id</th>\n",
              "      <th>delay_minutes</th>\n",
              "    </tr>\n",
              "  </thead>\n",
              "  <tbody>\n",
              "    <tr>\n",
              "      <th>count</th>\n",
              "      <td>87172.000000</td>\n",
              "      <td>98698.000000</td>\n",
              "      <td>98698.000000</td>\n",
              "      <td>87172.000000</td>\n",
              "    </tr>\n",
              "    <tr>\n",
              "      <th>mean</th>\n",
              "      <td>8.046907</td>\n",
              "      <td>4118.725688</td>\n",
              "      <td>4132.612606</td>\n",
              "      <td>3.281289</td>\n",
              "    </tr>\n",
              "    <tr>\n",
              "      <th>std</th>\n",
              "      <td>4.984259</td>\n",
              "      <td>11702.316235</td>\n",
              "      <td>11720.132745</td>\n",
              "      <td>10.253101</td>\n",
              "    </tr>\n",
              "    <tr>\n",
              "      <th>min</th>\n",
              "      <td>1.000000</td>\n",
              "      <td>1.000000</td>\n",
              "      <td>1.000000</td>\n",
              "      <td>0.000000</td>\n",
              "    </tr>\n",
              "    <tr>\n",
              "      <th>25%</th>\n",
              "      <td>4.000000</td>\n",
              "      <td>49.000000</td>\n",
              "      <td>49.000000</td>\n",
              "      <td>0.116667</td>\n",
              "    </tr>\n",
              "    <tr>\n",
              "      <th>50%</th>\n",
              "      <td>8.000000</td>\n",
              "      <td>102.000000</td>\n",
              "      <td>102.000000</td>\n",
              "      <td>1.200000</td>\n",
              "    </tr>\n",
              "    <tr>\n",
              "      <th>75%</th>\n",
              "      <td>11.000000</td>\n",
              "      <td>132.000000</td>\n",
              "      <td>132.000000</td>\n",
              "      <td>3.083333</td>\n",
              "    </tr>\n",
              "    <tr>\n",
              "      <th>max</th>\n",
              "      <td>26.000000</td>\n",
              "      <td>43599.000000</td>\n",
              "      <td>43599.000000</td>\n",
              "      <td>182.000000</td>\n",
              "    </tr>\n",
              "  </tbody>\n",
              "</table>\n",
              "</div>\n",
              "    <div class=\"colab-df-buttons\">\n",
              "\n",
              "  <div class=\"colab-df-container\">\n",
              "    <button class=\"colab-df-convert\" onclick=\"convertToInteractive('df-62e52924-6230-4400-af56-c4e46c37101f')\"\n",
              "            title=\"Convert this dataframe to an interactive table.\"\n",
              "            style=\"display:none;\">\n",
              "\n",
              "  <svg xmlns=\"http://www.w3.org/2000/svg\" height=\"24px\" viewBox=\"0 -960 960 960\">\n",
              "    <path d=\"M120-120v-720h720v720H120Zm60-500h600v-160H180v160Zm220 220h160v-160H400v160Zm0 220h160v-160H400v160ZM180-400h160v-160H180v160Zm440 0h160v-160H620v160ZM180-180h160v-160H180v160Zm440 0h160v-160H620v160Z\"/>\n",
              "  </svg>\n",
              "    </button>\n",
              "\n",
              "  <style>\n",
              "    .colab-df-container {\n",
              "      display:flex;\n",
              "      gap: 12px;\n",
              "    }\n",
              "\n",
              "    .colab-df-convert {\n",
              "      background-color: #E8F0FE;\n",
              "      border: none;\n",
              "      border-radius: 50%;\n",
              "      cursor: pointer;\n",
              "      display: none;\n",
              "      fill: #1967D2;\n",
              "      height: 32px;\n",
              "      padding: 0 0 0 0;\n",
              "      width: 32px;\n",
              "    }\n",
              "\n",
              "    .colab-df-convert:hover {\n",
              "      background-color: #E2EBFA;\n",
              "      box-shadow: 0px 1px 2px rgba(60, 64, 67, 0.3), 0px 1px 3px 1px rgba(60, 64, 67, 0.15);\n",
              "      fill: #174EA6;\n",
              "    }\n",
              "\n",
              "    .colab-df-buttons div {\n",
              "      margin-bottom: 4px;\n",
              "    }\n",
              "\n",
              "    [theme=dark] .colab-df-convert {\n",
              "      background-color: #3B4455;\n",
              "      fill: #D2E3FC;\n",
              "    }\n",
              "\n",
              "    [theme=dark] .colab-df-convert:hover {\n",
              "      background-color: #434B5C;\n",
              "      box-shadow: 0px 1px 3px 1px rgba(0, 0, 0, 0.15);\n",
              "      filter: drop-shadow(0px 1px 2px rgba(0, 0, 0, 0.3));\n",
              "      fill: #FFFFFF;\n",
              "    }\n",
              "  </style>\n",
              "\n",
              "    <script>\n",
              "      const buttonEl =\n",
              "        document.querySelector('#df-62e52924-6230-4400-af56-c4e46c37101f button.colab-df-convert');\n",
              "      buttonEl.style.display =\n",
              "        google.colab.kernel.accessAllowed ? 'block' : 'none';\n",
              "\n",
              "      async function convertToInteractive(key) {\n",
              "        const element = document.querySelector('#df-62e52924-6230-4400-af56-c4e46c37101f');\n",
              "        const dataTable =\n",
              "          await google.colab.kernel.invokeFunction('convertToInteractive',\n",
              "                                                    [key], {});\n",
              "        if (!dataTable) return;\n",
              "\n",
              "        const docLinkHtml = 'Like what you see? Visit the ' +\n",
              "          '<a target=\"_blank\" href=https://colab.research.google.com/notebooks/data_table.ipynb>data table notebook</a>'\n",
              "          + ' to learn more about interactive tables.';\n",
              "        element.innerHTML = '';\n",
              "        dataTable['output_type'] = 'display_data';\n",
              "        await google.colab.output.renderOutput(dataTable, element);\n",
              "        const docLink = document.createElement('div');\n",
              "        docLink.innerHTML = docLinkHtml;\n",
              "        element.appendChild(docLink);\n",
              "      }\n",
              "    </script>\n",
              "  </div>\n",
              "\n",
              "\n",
              "<div id=\"df-271e7b2f-563b-4a82-b544-0e4b09e781fe\">\n",
              "  <button class=\"colab-df-quickchart\" onclick=\"quickchart('df-271e7b2f-563b-4a82-b544-0e4b09e781fe')\"\n",
              "            title=\"Suggest charts\"\n",
              "            style=\"display:none;\">\n",
              "\n",
              "<svg xmlns=\"http://www.w3.org/2000/svg\" height=\"24px\"viewBox=\"0 0 24 24\"\n",
              "     width=\"24px\">\n",
              "    <g>\n",
              "        <path d=\"M19 3H5c-1.1 0-2 .9-2 2v14c0 1.1.9 2 2 2h14c1.1 0 2-.9 2-2V5c0-1.1-.9-2-2-2zM9 17H7v-7h2v7zm4 0h-2V7h2v10zm4 0h-2v-4h2v4z\"/>\n",
              "    </g>\n",
              "</svg>\n",
              "  </button>\n",
              "\n",
              "<style>\n",
              "  .colab-df-quickchart {\n",
              "      --bg-color: #E8F0FE;\n",
              "      --fill-color: #1967D2;\n",
              "      --hover-bg-color: #E2EBFA;\n",
              "      --hover-fill-color: #174EA6;\n",
              "      --disabled-fill-color: #AAA;\n",
              "      --disabled-bg-color: #DDD;\n",
              "  }\n",
              "\n",
              "  [theme=dark] .colab-df-quickchart {\n",
              "      --bg-color: #3B4455;\n",
              "      --fill-color: #D2E3FC;\n",
              "      --hover-bg-color: #434B5C;\n",
              "      --hover-fill-color: #FFFFFF;\n",
              "      --disabled-bg-color: #3B4455;\n",
              "      --disabled-fill-color: #666;\n",
              "  }\n",
              "\n",
              "  .colab-df-quickchart {\n",
              "    background-color: var(--bg-color);\n",
              "    border: none;\n",
              "    border-radius: 50%;\n",
              "    cursor: pointer;\n",
              "    display: none;\n",
              "    fill: var(--fill-color);\n",
              "    height: 32px;\n",
              "    padding: 0;\n",
              "    width: 32px;\n",
              "  }\n",
              "\n",
              "  .colab-df-quickchart:hover {\n",
              "    background-color: var(--hover-bg-color);\n",
              "    box-shadow: 0 1px 2px rgba(60, 64, 67, 0.3), 0 1px 3px 1px rgba(60, 64, 67, 0.15);\n",
              "    fill: var(--button-hover-fill-color);\n",
              "  }\n",
              "\n",
              "  .colab-df-quickchart-complete:disabled,\n",
              "  .colab-df-quickchart-complete:disabled:hover {\n",
              "    background-color: var(--disabled-bg-color);\n",
              "    fill: var(--disabled-fill-color);\n",
              "    box-shadow: none;\n",
              "  }\n",
              "\n",
              "  .colab-df-spinner {\n",
              "    border: 2px solid var(--fill-color);\n",
              "    border-color: transparent;\n",
              "    border-bottom-color: var(--fill-color);\n",
              "    animation:\n",
              "      spin 1s steps(1) infinite;\n",
              "  }\n",
              "\n",
              "  @keyframes spin {\n",
              "    0% {\n",
              "      border-color: transparent;\n",
              "      border-bottom-color: var(--fill-color);\n",
              "      border-left-color: var(--fill-color);\n",
              "    }\n",
              "    20% {\n",
              "      border-color: transparent;\n",
              "      border-left-color: var(--fill-color);\n",
              "      border-top-color: var(--fill-color);\n",
              "    }\n",
              "    30% {\n",
              "      border-color: transparent;\n",
              "      border-left-color: var(--fill-color);\n",
              "      border-top-color: var(--fill-color);\n",
              "      border-right-color: var(--fill-color);\n",
              "    }\n",
              "    40% {\n",
              "      border-color: transparent;\n",
              "      border-right-color: var(--fill-color);\n",
              "      border-top-color: var(--fill-color);\n",
              "    }\n",
              "    60% {\n",
              "      border-color: transparent;\n",
              "      border-right-color: var(--fill-color);\n",
              "    }\n",
              "    80% {\n",
              "      border-color: transparent;\n",
              "      border-right-color: var(--fill-color);\n",
              "      border-bottom-color: var(--fill-color);\n",
              "    }\n",
              "    90% {\n",
              "      border-color: transparent;\n",
              "      border-bottom-color: var(--fill-color);\n",
              "    }\n",
              "  }\n",
              "</style>\n",
              "\n",
              "  <script>\n",
              "    async function quickchart(key) {\n",
              "      const quickchartButtonEl =\n",
              "        document.querySelector('#' + key + ' button');\n",
              "      quickchartButtonEl.disabled = true;  // To prevent multiple clicks.\n",
              "      quickchartButtonEl.classList.add('colab-df-spinner');\n",
              "      try {\n",
              "        const charts = await google.colab.kernel.invokeFunction(\n",
              "            'suggestCharts', [key], {});\n",
              "      } catch (error) {\n",
              "        console.error('Error during call to suggestCharts:', error);\n",
              "      }\n",
              "      quickchartButtonEl.classList.remove('colab-df-spinner');\n",
              "      quickchartButtonEl.classList.add('colab-df-quickchart-complete');\n",
              "    }\n",
              "    (() => {\n",
              "      let quickchartButtonEl =\n",
              "        document.querySelector('#df-271e7b2f-563b-4a82-b544-0e4b09e781fe button');\n",
              "      quickchartButtonEl.style.display =\n",
              "        google.colab.kernel.accessAllowed ? 'block' : 'none';\n",
              "    })();\n",
              "  </script>\n",
              "</div>\n",
              "\n",
              "    </div>\n",
              "  </div>\n"
            ],
            "application/vnd.google.colaboratory.intrinsic+json": {
              "type": "dataframe",
              "summary": "{\n  \"name\": \"data\",\n  \"rows\": 8,\n  \"fields\": [\n    {\n      \"column\": \"stop_sequence\",\n      \"properties\": {\n        \"dtype\": \"number\",\n        \"std\": 30816.773537355446,\n        \"min\": 1.0,\n        \"max\": 87172.0,\n        \"num_unique_values\": 8,\n        \"samples\": [\n          8.046907263800303,\n          8.0,\n          87172.0\n        ],\n        \"semantic_type\": \"\",\n        \"description\": \"\"\n      }\n    },\n    {\n      \"column\": \"from_id\",\n      \"properties\": {\n        \"dtype\": \"number\",\n        \"std\": 35172.44351734449,\n        \"min\": 1.0,\n        \"max\": 98698.0,\n        \"num_unique_values\": 8,\n        \"samples\": [\n          4118.725688463799,\n          102.0,\n          98698.0\n        ],\n        \"semantic_type\": \"\",\n        \"description\": \"\"\n      }\n    },\n    {\n      \"column\": \"to_id\",\n      \"properties\": {\n        \"dtype\": \"number\",\n        \"std\": 35170.97377762144,\n        \"min\": 1.0,\n        \"max\": 98698.0,\n        \"num_unique_values\": 8,\n        \"samples\": [\n          4132.612606131836,\n          102.0,\n          98698.0\n        ],\n        \"semantic_type\": \"\",\n        \"description\": \"\"\n      }\n    },\n    {\n      \"column\": \"delay_minutes\",\n      \"properties\": {\n        \"dtype\": \"number\",\n        \"std\": 30809.92180165819,\n        \"min\": 0.0,\n        \"max\": 87172.0,\n        \"num_unique_values\": 8,\n        \"samples\": [\n          3.2812889077532548,\n          1.2,\n          87172.0\n        ],\n        \"semantic_type\": \"\",\n        \"description\": \"\"\n      }\n    }\n  ]\n}"
            }
          },
          "metadata": {},
          "execution_count": 65
        }
      ]
    },
    {
      "cell_type": "code",
      "source": [
        "data.info()"
      ],
      "metadata": {
        "colab": {
          "base_uri": "https://localhost:8080/"
        },
        "id": "t2Hx2unDQ_AM",
        "outputId": "31be9ce8-332d-4b45-8bfa-cef3281e81af"
      },
      "execution_count": 66,
      "outputs": [
        {
          "output_type": "stream",
          "name": "stdout",
          "text": [
            "<class 'pandas.core.frame.DataFrame'>\n",
            "RangeIndex: 98698 entries, 0 to 98697\n",
            "Data columns (total 13 columns):\n",
            " #   Column          Non-Null Count  Dtype  \n",
            "---  ------          --------------  -----  \n",
            " 0   date            98698 non-null  object \n",
            " 1   train_id        98698 non-null  object \n",
            " 2   stop_sequence   87172 non-null  float64\n",
            " 3   from            98698 non-null  object \n",
            " 4   from_id         98698 non-null  int64  \n",
            " 5   to              98698 non-null  object \n",
            " 6   to_id           98698 non-null  int64  \n",
            " 7   scheduled_time  87172 non-null  object \n",
            " 8   actual_time     98698 non-null  object \n",
            " 9   delay_minutes   87172 non-null  float64\n",
            " 10  status          98698 non-null  object \n",
            " 11  line            98698 non-null  object \n",
            " 12  type            98698 non-null  object \n",
            "dtypes: float64(2), int64(2), object(9)\n",
            "memory usage: 9.8+ MB\n"
          ]
        }
      ]
    },
    {
      "cell_type": "code",
      "source": [
        "data.head(5)"
      ],
      "metadata": {
        "colab": {
          "base_uri": "https://localhost:8080/",
          "height": 289
        },
        "id": "vWPVOo2rTrmp",
        "outputId": "e2ac17cc-a1a8-4052-f2df-246b211b9857"
      },
      "execution_count": 67,
      "outputs": [
        {
          "output_type": "execute_result",
          "data": {
            "text/plain": [
              "         date train_id  stop_sequence                 from  from_id  \\\n",
              "0  2020-05-01     5543            1.0  Newark Penn Station      107   \n",
              "1  2020-05-01     5543            2.0  Newark Penn Station      107   \n",
              "2  2020-05-01     5543            3.0                Union    38105   \n",
              "3  2020-05-01     5543            4.0         Roselle Park       31   \n",
              "4  2020-05-01     5543            5.0             Cranford       32   \n",
              "\n",
              "                    to  to_id       scheduled_time          actual_time  \\\n",
              "0  Newark Penn Station    107  2020-05-01 23:38:00  2020-05-01 23:40:09   \n",
              "1                Union  38105  2020-05-01 23:47:00  2020-05-01 23:47:01   \n",
              "2         Roselle Park     31  2020-05-01 23:50:00  2020-05-01 23:51:04   \n",
              "3             Cranford     32  2020-05-01 23:55:00  2020-05-01 23:55:31   \n",
              "4            Westfield    155  2020-05-01 23:59:00  2020-05-01 23:59:01   \n",
              "\n",
              "   delay_minutes    status            line        type  \n",
              "0       2.150000  departed  Raritan Valley  NJ Transit  \n",
              "1       0.016667  departed  Raritan Valley  NJ Transit  \n",
              "2       1.066667  departed  Raritan Valley  NJ Transit  \n",
              "3       0.516667  departed  Raritan Valley  NJ Transit  \n",
              "4       0.016667  departed  Raritan Valley  NJ Transit  "
            ],
            "text/html": [
              "\n",
              "  <div id=\"df-c5b1dbb7-8928-4be2-bd8f-a38bad13236c\" class=\"colab-df-container\">\n",
              "    <div>\n",
              "<style scoped>\n",
              "    .dataframe tbody tr th:only-of-type {\n",
              "        vertical-align: middle;\n",
              "    }\n",
              "\n",
              "    .dataframe tbody tr th {\n",
              "        vertical-align: top;\n",
              "    }\n",
              "\n",
              "    .dataframe thead th {\n",
              "        text-align: right;\n",
              "    }\n",
              "</style>\n",
              "<table border=\"1\" class=\"dataframe\">\n",
              "  <thead>\n",
              "    <tr style=\"text-align: right;\">\n",
              "      <th></th>\n",
              "      <th>date</th>\n",
              "      <th>train_id</th>\n",
              "      <th>stop_sequence</th>\n",
              "      <th>from</th>\n",
              "      <th>from_id</th>\n",
              "      <th>to</th>\n",
              "      <th>to_id</th>\n",
              "      <th>scheduled_time</th>\n",
              "      <th>actual_time</th>\n",
              "      <th>delay_minutes</th>\n",
              "      <th>status</th>\n",
              "      <th>line</th>\n",
              "      <th>type</th>\n",
              "    </tr>\n",
              "  </thead>\n",
              "  <tbody>\n",
              "    <tr>\n",
              "      <th>0</th>\n",
              "      <td>2020-05-01</td>\n",
              "      <td>5543</td>\n",
              "      <td>1.0</td>\n",
              "      <td>Newark Penn Station</td>\n",
              "      <td>107</td>\n",
              "      <td>Newark Penn Station</td>\n",
              "      <td>107</td>\n",
              "      <td>2020-05-01 23:38:00</td>\n",
              "      <td>2020-05-01 23:40:09</td>\n",
              "      <td>2.150000</td>\n",
              "      <td>departed</td>\n",
              "      <td>Raritan Valley</td>\n",
              "      <td>NJ Transit</td>\n",
              "    </tr>\n",
              "    <tr>\n",
              "      <th>1</th>\n",
              "      <td>2020-05-01</td>\n",
              "      <td>5543</td>\n",
              "      <td>2.0</td>\n",
              "      <td>Newark Penn Station</td>\n",
              "      <td>107</td>\n",
              "      <td>Union</td>\n",
              "      <td>38105</td>\n",
              "      <td>2020-05-01 23:47:00</td>\n",
              "      <td>2020-05-01 23:47:01</td>\n",
              "      <td>0.016667</td>\n",
              "      <td>departed</td>\n",
              "      <td>Raritan Valley</td>\n",
              "      <td>NJ Transit</td>\n",
              "    </tr>\n",
              "    <tr>\n",
              "      <th>2</th>\n",
              "      <td>2020-05-01</td>\n",
              "      <td>5543</td>\n",
              "      <td>3.0</td>\n",
              "      <td>Union</td>\n",
              "      <td>38105</td>\n",
              "      <td>Roselle Park</td>\n",
              "      <td>31</td>\n",
              "      <td>2020-05-01 23:50:00</td>\n",
              "      <td>2020-05-01 23:51:04</td>\n",
              "      <td>1.066667</td>\n",
              "      <td>departed</td>\n",
              "      <td>Raritan Valley</td>\n",
              "      <td>NJ Transit</td>\n",
              "    </tr>\n",
              "    <tr>\n",
              "      <th>3</th>\n",
              "      <td>2020-05-01</td>\n",
              "      <td>5543</td>\n",
              "      <td>4.0</td>\n",
              "      <td>Roselle Park</td>\n",
              "      <td>31</td>\n",
              "      <td>Cranford</td>\n",
              "      <td>32</td>\n",
              "      <td>2020-05-01 23:55:00</td>\n",
              "      <td>2020-05-01 23:55:31</td>\n",
              "      <td>0.516667</td>\n",
              "      <td>departed</td>\n",
              "      <td>Raritan Valley</td>\n",
              "      <td>NJ Transit</td>\n",
              "    </tr>\n",
              "    <tr>\n",
              "      <th>4</th>\n",
              "      <td>2020-05-01</td>\n",
              "      <td>5543</td>\n",
              "      <td>5.0</td>\n",
              "      <td>Cranford</td>\n",
              "      <td>32</td>\n",
              "      <td>Westfield</td>\n",
              "      <td>155</td>\n",
              "      <td>2020-05-01 23:59:00</td>\n",
              "      <td>2020-05-01 23:59:01</td>\n",
              "      <td>0.016667</td>\n",
              "      <td>departed</td>\n",
              "      <td>Raritan Valley</td>\n",
              "      <td>NJ Transit</td>\n",
              "    </tr>\n",
              "  </tbody>\n",
              "</table>\n",
              "</div>\n",
              "    <div class=\"colab-df-buttons\">\n",
              "\n",
              "  <div class=\"colab-df-container\">\n",
              "    <button class=\"colab-df-convert\" onclick=\"convertToInteractive('df-c5b1dbb7-8928-4be2-bd8f-a38bad13236c')\"\n",
              "            title=\"Convert this dataframe to an interactive table.\"\n",
              "            style=\"display:none;\">\n",
              "\n",
              "  <svg xmlns=\"http://www.w3.org/2000/svg\" height=\"24px\" viewBox=\"0 -960 960 960\">\n",
              "    <path d=\"M120-120v-720h720v720H120Zm60-500h600v-160H180v160Zm220 220h160v-160H400v160Zm0 220h160v-160H400v160ZM180-400h160v-160H180v160Zm440 0h160v-160H620v160ZM180-180h160v-160H180v160Zm440 0h160v-160H620v160Z\"/>\n",
              "  </svg>\n",
              "    </button>\n",
              "\n",
              "  <style>\n",
              "    .colab-df-container {\n",
              "      display:flex;\n",
              "      gap: 12px;\n",
              "    }\n",
              "\n",
              "    .colab-df-convert {\n",
              "      background-color: #E8F0FE;\n",
              "      border: none;\n",
              "      border-radius: 50%;\n",
              "      cursor: pointer;\n",
              "      display: none;\n",
              "      fill: #1967D2;\n",
              "      height: 32px;\n",
              "      padding: 0 0 0 0;\n",
              "      width: 32px;\n",
              "    }\n",
              "\n",
              "    .colab-df-convert:hover {\n",
              "      background-color: #E2EBFA;\n",
              "      box-shadow: 0px 1px 2px rgba(60, 64, 67, 0.3), 0px 1px 3px 1px rgba(60, 64, 67, 0.15);\n",
              "      fill: #174EA6;\n",
              "    }\n",
              "\n",
              "    .colab-df-buttons div {\n",
              "      margin-bottom: 4px;\n",
              "    }\n",
              "\n",
              "    [theme=dark] .colab-df-convert {\n",
              "      background-color: #3B4455;\n",
              "      fill: #D2E3FC;\n",
              "    }\n",
              "\n",
              "    [theme=dark] .colab-df-convert:hover {\n",
              "      background-color: #434B5C;\n",
              "      box-shadow: 0px 1px 3px 1px rgba(0, 0, 0, 0.15);\n",
              "      filter: drop-shadow(0px 1px 2px rgba(0, 0, 0, 0.3));\n",
              "      fill: #FFFFFF;\n",
              "    }\n",
              "  </style>\n",
              "\n",
              "    <script>\n",
              "      const buttonEl =\n",
              "        document.querySelector('#df-c5b1dbb7-8928-4be2-bd8f-a38bad13236c button.colab-df-convert');\n",
              "      buttonEl.style.display =\n",
              "        google.colab.kernel.accessAllowed ? 'block' : 'none';\n",
              "\n",
              "      async function convertToInteractive(key) {\n",
              "        const element = document.querySelector('#df-c5b1dbb7-8928-4be2-bd8f-a38bad13236c');\n",
              "        const dataTable =\n",
              "          await google.colab.kernel.invokeFunction('convertToInteractive',\n",
              "                                                    [key], {});\n",
              "        if (!dataTable) return;\n",
              "\n",
              "        const docLinkHtml = 'Like what you see? Visit the ' +\n",
              "          '<a target=\"_blank\" href=https://colab.research.google.com/notebooks/data_table.ipynb>data table notebook</a>'\n",
              "          + ' to learn more about interactive tables.';\n",
              "        element.innerHTML = '';\n",
              "        dataTable['output_type'] = 'display_data';\n",
              "        await google.colab.output.renderOutput(dataTable, element);\n",
              "        const docLink = document.createElement('div');\n",
              "        docLink.innerHTML = docLinkHtml;\n",
              "        element.appendChild(docLink);\n",
              "      }\n",
              "    </script>\n",
              "  </div>\n",
              "\n",
              "\n",
              "<div id=\"df-aa67bf15-62b1-40f7-a225-68a70f24212b\">\n",
              "  <button class=\"colab-df-quickchart\" onclick=\"quickchart('df-aa67bf15-62b1-40f7-a225-68a70f24212b')\"\n",
              "            title=\"Suggest charts\"\n",
              "            style=\"display:none;\">\n",
              "\n",
              "<svg xmlns=\"http://www.w3.org/2000/svg\" height=\"24px\"viewBox=\"0 0 24 24\"\n",
              "     width=\"24px\">\n",
              "    <g>\n",
              "        <path d=\"M19 3H5c-1.1 0-2 .9-2 2v14c0 1.1.9 2 2 2h14c1.1 0 2-.9 2-2V5c0-1.1-.9-2-2-2zM9 17H7v-7h2v7zm4 0h-2V7h2v10zm4 0h-2v-4h2v4z\"/>\n",
              "    </g>\n",
              "</svg>\n",
              "  </button>\n",
              "\n",
              "<style>\n",
              "  .colab-df-quickchart {\n",
              "      --bg-color: #E8F0FE;\n",
              "      --fill-color: #1967D2;\n",
              "      --hover-bg-color: #E2EBFA;\n",
              "      --hover-fill-color: #174EA6;\n",
              "      --disabled-fill-color: #AAA;\n",
              "      --disabled-bg-color: #DDD;\n",
              "  }\n",
              "\n",
              "  [theme=dark] .colab-df-quickchart {\n",
              "      --bg-color: #3B4455;\n",
              "      --fill-color: #D2E3FC;\n",
              "      --hover-bg-color: #434B5C;\n",
              "      --hover-fill-color: #FFFFFF;\n",
              "      --disabled-bg-color: #3B4455;\n",
              "      --disabled-fill-color: #666;\n",
              "  }\n",
              "\n",
              "  .colab-df-quickchart {\n",
              "    background-color: var(--bg-color);\n",
              "    border: none;\n",
              "    border-radius: 50%;\n",
              "    cursor: pointer;\n",
              "    display: none;\n",
              "    fill: var(--fill-color);\n",
              "    height: 32px;\n",
              "    padding: 0;\n",
              "    width: 32px;\n",
              "  }\n",
              "\n",
              "  .colab-df-quickchart:hover {\n",
              "    background-color: var(--hover-bg-color);\n",
              "    box-shadow: 0 1px 2px rgba(60, 64, 67, 0.3), 0 1px 3px 1px rgba(60, 64, 67, 0.15);\n",
              "    fill: var(--button-hover-fill-color);\n",
              "  }\n",
              "\n",
              "  .colab-df-quickchart-complete:disabled,\n",
              "  .colab-df-quickchart-complete:disabled:hover {\n",
              "    background-color: var(--disabled-bg-color);\n",
              "    fill: var(--disabled-fill-color);\n",
              "    box-shadow: none;\n",
              "  }\n",
              "\n",
              "  .colab-df-spinner {\n",
              "    border: 2px solid var(--fill-color);\n",
              "    border-color: transparent;\n",
              "    border-bottom-color: var(--fill-color);\n",
              "    animation:\n",
              "      spin 1s steps(1) infinite;\n",
              "  }\n",
              "\n",
              "  @keyframes spin {\n",
              "    0% {\n",
              "      border-color: transparent;\n",
              "      border-bottom-color: var(--fill-color);\n",
              "      border-left-color: var(--fill-color);\n",
              "    }\n",
              "    20% {\n",
              "      border-color: transparent;\n",
              "      border-left-color: var(--fill-color);\n",
              "      border-top-color: var(--fill-color);\n",
              "    }\n",
              "    30% {\n",
              "      border-color: transparent;\n",
              "      border-left-color: var(--fill-color);\n",
              "      border-top-color: var(--fill-color);\n",
              "      border-right-color: var(--fill-color);\n",
              "    }\n",
              "    40% {\n",
              "      border-color: transparent;\n",
              "      border-right-color: var(--fill-color);\n",
              "      border-top-color: var(--fill-color);\n",
              "    }\n",
              "    60% {\n",
              "      border-color: transparent;\n",
              "      border-right-color: var(--fill-color);\n",
              "    }\n",
              "    80% {\n",
              "      border-color: transparent;\n",
              "      border-right-color: var(--fill-color);\n",
              "      border-bottom-color: var(--fill-color);\n",
              "    }\n",
              "    90% {\n",
              "      border-color: transparent;\n",
              "      border-bottom-color: var(--fill-color);\n",
              "    }\n",
              "  }\n",
              "</style>\n",
              "\n",
              "  <script>\n",
              "    async function quickchart(key) {\n",
              "      const quickchartButtonEl =\n",
              "        document.querySelector('#' + key + ' button');\n",
              "      quickchartButtonEl.disabled = true;  // To prevent multiple clicks.\n",
              "      quickchartButtonEl.classList.add('colab-df-spinner');\n",
              "      try {\n",
              "        const charts = await google.colab.kernel.invokeFunction(\n",
              "            'suggestCharts', [key], {});\n",
              "      } catch (error) {\n",
              "        console.error('Error during call to suggestCharts:', error);\n",
              "      }\n",
              "      quickchartButtonEl.classList.remove('colab-df-spinner');\n",
              "      quickchartButtonEl.classList.add('colab-df-quickchart-complete');\n",
              "    }\n",
              "    (() => {\n",
              "      let quickchartButtonEl =\n",
              "        document.querySelector('#df-aa67bf15-62b1-40f7-a225-68a70f24212b button');\n",
              "      quickchartButtonEl.style.display =\n",
              "        google.colab.kernel.accessAllowed ? 'block' : 'none';\n",
              "    })();\n",
              "  </script>\n",
              "</div>\n",
              "\n",
              "    </div>\n",
              "  </div>\n"
            ],
            "application/vnd.google.colaboratory.intrinsic+json": {
              "type": "dataframe",
              "variable_name": "data",
              "summary": "{\n  \"name\": \"data\",\n  \"rows\": 98698,\n  \"fields\": [\n    {\n      \"column\": \"date\",\n      \"properties\": {\n        \"dtype\": \"object\",\n        \"num_unique_values\": 18,\n        \"samples\": [\n          \"2020-05-01\",\n          \"2020-05-02\",\n          \"2020-05-09\"\n        ],\n        \"semantic_type\": \"\",\n        \"description\": \"\"\n      }\n    },\n    {\n      \"column\": \"train_id\",\n      \"properties\": {\n        \"dtype\": \"category\",\n        \"num_unique_values\": 577,\n        \"samples\": [\n          \"0962\",\n          \"9629\",\n          \"4662\"\n        ],\n        \"semantic_type\": \"\",\n        \"description\": \"\"\n      }\n    },\n    {\n      \"column\": \"stop_sequence\",\n      \"properties\": {\n        \"dtype\": \"number\",\n        \"std\": 4.984259211927871,\n        \"min\": 1.0,\n        \"max\": 26.0,\n        \"num_unique_values\": 26,\n        \"samples\": [\n          9.0,\n          17.0,\n          1.0\n        ],\n        \"semantic_type\": \"\",\n        \"description\": \"\"\n      }\n    },\n    {\n      \"column\": \"from\",\n      \"properties\": {\n        \"dtype\": \"category\",\n        \"num_unique_values\": 164,\n        \"samples\": [\n          \"Boonton\",\n          \"Elberon\",\n          \"Glen Rock Boro Hall\"\n        ],\n        \"semantic_type\": \"\",\n        \"description\": \"\"\n      }\n    },\n    {\n      \"column\": \"from_id\",\n      \"properties\": {\n        \"dtype\": \"number\",\n        \"std\": 11702,\n        \"min\": 1,\n        \"max\": 43599,\n        \"num_unique_values\": 164,\n        \"samples\": [\n          20,\n          40,\n          51\n        ],\n        \"semantic_type\": \"\",\n        \"description\": \"\"\n      }\n    },\n    {\n      \"column\": \"to\",\n      \"properties\": {\n        \"dtype\": \"category\",\n        \"num_unique_values\": 164,\n        \"samples\": [\n          \"Boonton\",\n          \"Elberon\",\n          \"Glen Rock Boro Hall\"\n        ],\n        \"semantic_type\": \"\",\n        \"description\": \"\"\n      }\n    },\n    {\n      \"column\": \"to_id\",\n      \"properties\": {\n        \"dtype\": \"number\",\n        \"std\": 11720,\n        \"min\": 1,\n        \"max\": 43599,\n        \"num_unique_values\": 164,\n        \"samples\": [\n          20,\n          40,\n          51\n        ],\n        \"semantic_type\": \"\",\n        \"description\": \"\"\n      }\n    },\n    {\n      \"column\": \"scheduled_time\",\n      \"properties\": {\n        \"dtype\": \"object\",\n        \"num_unique_values\": 21901,\n        \"samples\": [\n          \"2020-05-10 00:36:00\",\n          \"2020-05-12 23:56:00\",\n          \"2020-05-01 12:39:00\"\n        ],\n        \"semantic_type\": \"\",\n        \"description\": \"\"\n      }\n    },\n    {\n      \"column\": \"actual_time\",\n      \"properties\": {\n        \"dtype\": \"object\",\n        \"num_unique_values\": 63884,\n        \"samples\": [\n          \"2020-05-06 08:50:11\",\n          \"2020-05-15 08:27:14\",\n          \"2020-05-04 18:29:07\"\n        ],\n        \"semantic_type\": \"\",\n        \"description\": \"\"\n      }\n    },\n    {\n      \"column\": \"delay_minutes\",\n      \"properties\": {\n        \"dtype\": \"number\",\n        \"std\": 10.25310119020857,\n        \"min\": 0.0,\n        \"max\": 182.0,\n        \"num_unique_values\": 1761,\n        \"samples\": [\n          33.2,\n          16.31666666666667,\n          19.05\n        ],\n        \"semantic_type\": \"\",\n        \"description\": \"\"\n      }\n    },\n    {\n      \"column\": \"status\",\n      \"properties\": {\n        \"dtype\": \"category\",\n        \"num_unique_values\": 3,\n        \"samples\": [\n          \"departed\",\n          \"estimated\",\n          \"cancelled\"\n        ],\n        \"semantic_type\": \"\",\n        \"description\": \"\"\n      }\n    },\n    {\n      \"column\": \"line\",\n      \"properties\": {\n        \"dtype\": \"category\",\n        \"num_unique_values\": 21,\n        \"samples\": [\n          \"Raritan Valley\",\n          \"Regional\",\n          \"VERMONTER    -R\"\n        ],\n        \"semantic_type\": \"\",\n        \"description\": \"\"\n      }\n    },\n    {\n      \"column\": \"type\",\n      \"properties\": {\n        \"dtype\": \"category\",\n        \"num_unique_values\": 2,\n        \"samples\": [\n          \"Amtrak\",\n          \"NJ Transit\"\n        ],\n        \"semantic_type\": \"\",\n        \"description\": \"\"\n      }\n    }\n  ]\n}"
            }
          },
          "metadata": {},
          "execution_count": 67
        }
      ]
    },
    {
      "cell_type": "code",
      "source": [
        "data.columns"
      ],
      "metadata": {
        "colab": {
          "base_uri": "https://localhost:8080/"
        },
        "id": "jygln7yQT_Li",
        "outputId": "61c334c3-d483-4052-8c3b-1db591a1e616"
      },
      "execution_count": 68,
      "outputs": [
        {
          "output_type": "execute_result",
          "data": {
            "text/plain": [
              "Index(['date', 'train_id', 'stop_sequence', 'from', 'from_id', 'to', 'to_id',\n",
              "       'scheduled_time', 'actual_time', 'delay_minutes', 'status', 'line',\n",
              "       'type'],\n",
              "      dtype='object')"
            ]
          },
          "metadata": {},
          "execution_count": 68
        }
      ]
    },
    {
      "cell_type": "code",
      "source": [
        "data.dtypes"
      ],
      "metadata": {
        "colab": {
          "base_uri": "https://localhost:8080/"
        },
        "id": "f-7HL_zcfqJC",
        "outputId": "1348c4d8-85ca-43f6-c7ac-498451c0183a"
      },
      "execution_count": 69,
      "outputs": [
        {
          "output_type": "execute_result",
          "data": {
            "text/plain": [
              "date               object\n",
              "train_id           object\n",
              "stop_sequence     float64\n",
              "from               object\n",
              "from_id             int64\n",
              "to                 object\n",
              "to_id               int64\n",
              "scheduled_time     object\n",
              "actual_time        object\n",
              "delay_minutes     float64\n",
              "status             object\n",
              "line               object\n",
              "type               object\n",
              "dtype: object"
            ]
          },
          "metadata": {},
          "execution_count": 69
        }
      ]
    },
    {
      "cell_type": "code",
      "source": [
        "print(data.isnull().sum())"
      ],
      "metadata": {
        "colab": {
          "base_uri": "https://localhost:8080/"
        },
        "id": "1Y9J4dT9hUh-",
        "outputId": "c7f34d95-0ff4-441f-ba3a-c39b3be377e4"
      },
      "execution_count": 70,
      "outputs": [
        {
          "output_type": "stream",
          "name": "stdout",
          "text": [
            "date                  0\n",
            "train_id              0\n",
            "stop_sequence     11526\n",
            "from                  0\n",
            "from_id               0\n",
            "to                    0\n",
            "to_id                 0\n",
            "scheduled_time    11526\n",
            "actual_time           0\n",
            "delay_minutes     11526\n",
            "status                0\n",
            "line                  0\n",
            "type                  0\n",
            "dtype: int64\n"
          ]
        }
      ]
    },
    {
      "cell_type": "markdown",
      "source": [
        "# Data Cleaning"
      ],
      "metadata": {
        "id": "3KwheANlUa48"
      }
    },
    {
      "cell_type": "code",
      "source": [
        "#Changing date colummns to dates\n",
        "\n",
        "data['scheduled_time'] = pd.to_datetime(data['scheduled_time'])\n",
        "data['actual_time'] = pd.to_datetime(data['actual_time'])\n",
        "\n",
        "# Extract day of the week from 'actual_time'\n",
        "data['day_of_week'] = data['actual_time'].dt.dayofweek\n",
        "\n",
        "# Extract hour of the day from 'actual_time'\n",
        "data['hour_of_day'] = data['actual_time'].dt.hour\n",
        "\n",
        "# data['date'] = pd.to_datetime(data['date'], format='ISO8601', errors='coerce')\n",
        "# data['scheduled_time'] = pd.to_datetime(data['scheduled_time'], format='%H:%M:%S', errors='coerce').dt.time\n",
        "# data['actual_time'] = pd.to_datetime(data['actual_time'], format='%H:%M:%S', errors='coerce').dt.time\n"
      ],
      "metadata": {
        "id": "qHXnOcw8UZy4"
      },
      "execution_count": 71,
      "outputs": []
    },
    {
      "cell_type": "code",
      "source": [
        "data.dtypes"
      ],
      "metadata": {
        "colab": {
          "base_uri": "https://localhost:8080/"
        },
        "id": "75VymkCZZnto",
        "outputId": "00ded240-5031-4c84-9e86-f1052cff1838"
      },
      "execution_count": 72,
      "outputs": [
        {
          "output_type": "execute_result",
          "data": {
            "text/plain": [
              "date                      object\n",
              "train_id                  object\n",
              "stop_sequence            float64\n",
              "from                      object\n",
              "from_id                    int64\n",
              "to                        object\n",
              "to_id                      int64\n",
              "scheduled_time    datetime64[ns]\n",
              "actual_time       datetime64[ns]\n",
              "delay_minutes            float64\n",
              "status                    object\n",
              "line                      object\n",
              "type                      object\n",
              "day_of_week                int32\n",
              "hour_of_day                int32\n",
              "dtype: object"
            ]
          },
          "metadata": {},
          "execution_count": 72
        }
      ]
    },
    {
      "cell_type": "code",
      "source": [
        "data.dropna(how='all', inplace=True)"
      ],
      "metadata": {
        "id": "a7G3mCHyag-v"
      },
      "execution_count": 73,
      "outputs": []
    },
    {
      "cell_type": "code",
      "source": [
        "data.shape"
      ],
      "metadata": {
        "colab": {
          "base_uri": "https://localhost:8080/"
        },
        "id": "uNCqpED3a_1U",
        "outputId": "803ab75d-29dd-459f-cd47-2378c4b93556"
      },
      "execution_count": 74,
      "outputs": [
        {
          "output_type": "execute_result",
          "data": {
            "text/plain": [
              "(98698, 15)"
            ]
          },
          "metadata": {},
          "execution_count": 74
        }
      ]
    },
    {
      "cell_type": "code",
      "source": [
        "data.dropna(inplace=True)\n",
        "data.shape"
      ],
      "metadata": {
        "colab": {
          "base_uri": "https://localhost:8080/"
        },
        "id": "GZ23PH6ENG1U",
        "outputId": "e7413a26-e726-4217-8556-6ab948594355"
      },
      "execution_count": 75,
      "outputs": [
        {
          "output_type": "execute_result",
          "data": {
            "text/plain": [
              "(87172, 15)"
            ]
          },
          "metadata": {},
          "execution_count": 75
        }
      ]
    },
    {
      "cell_type": "markdown",
      "source": [
        "# **Feature Selection:**\n",
        "\n",
        "\n",
        "**Day of the week:** This feature captures potential patterns in train delays based on weekdays.\n",
        "\n",
        "**Hour of the day:** This feature helps identify rush hours and their impact on train delays.\n",
        "\n",
        "**Route information:**'from', 'to', and 'line' columns provide insights into different train routes and their associated delays.\n",
        "\n",
        "**Delay information:**'delay_minutes' column indicates the duration of delays, which is crucial for clustering.\n",
        "\n",
        "\n"
      ],
      "metadata": {
        "id": "6GQJ-VV4kxRd"
      }
    },
    {
      "cell_type": "code",
      "source": [
        "data.columns"
      ],
      "metadata": {
        "colab": {
          "base_uri": "https://localhost:8080/"
        },
        "id": "faqE_N14lGLf",
        "outputId": "03ad6c16-dc25-4b30-b471-4ca15203d7d7"
      },
      "execution_count": 76,
      "outputs": [
        {
          "output_type": "execute_result",
          "data": {
            "text/plain": [
              "Index(['date', 'train_id', 'stop_sequence', 'from', 'from_id', 'to', 'to_id',\n",
              "       'scheduled_time', 'actual_time', 'delay_minutes', 'status', 'line',\n",
              "       'type', 'day_of_week', 'hour_of_day'],\n",
              "      dtype='object')"
            ]
          },
          "metadata": {},
          "execution_count": 76
        }
      ]
    },
    {
      "cell_type": "code",
      "source": [
        "# Dropping unnecessary columns\n",
        "data.drop(['stop_sequence', 'from_id', 'to_id', 'type'], axis=1, inplace=True)\n",
        "data.dtypes"
      ],
      "metadata": {
        "colab": {
          "base_uri": "https://localhost:8080/"
        },
        "id": "UrebCWCulzLR",
        "outputId": "c1c5b913-0a2d-4c5c-ba8c-0651cb4b6b04"
      },
      "execution_count": 77,
      "outputs": [
        {
          "output_type": "execute_result",
          "data": {
            "text/plain": [
              "date                      object\n",
              "train_id                  object\n",
              "from                      object\n",
              "to                        object\n",
              "scheduled_time    datetime64[ns]\n",
              "actual_time       datetime64[ns]\n",
              "delay_minutes            float64\n",
              "status                    object\n",
              "line                      object\n",
              "day_of_week                int32\n",
              "hour_of_day                int32\n",
              "dtype: object"
            ]
          },
          "metadata": {},
          "execution_count": 77
        }
      ]
    },
    {
      "cell_type": "code",
      "source": [
        "selected_features = ['day_of_week', 'hour_of_day', 'from', 'to', 'line', 'delay_minutes']\n",
        "selected_data = data[selected_features]\n",
        "selected_data.columns\n",
        "\n",
        "selected_data['day_of_week']=selected_data['day_of_week'].astype(int)\n",
        "\n",
        "selected_data['hour_of_day']=selected_data['hour_of_day'].astype(int)"
      ],
      "metadata": {
        "colab": {
          "base_uri": "https://localhost:8080/"
        },
        "id": "Hna1rvChCsfn",
        "outputId": "d564e3a8-9474-413c-fb43-7d59443aa23d"
      },
      "execution_count": 78,
      "outputs": [
        {
          "output_type": "stream",
          "name": "stderr",
          "text": [
            "<ipython-input-78-4a953d0ce718>:5: SettingWithCopyWarning: \n",
            "A value is trying to be set on a copy of a slice from a DataFrame.\n",
            "Try using .loc[row_indexer,col_indexer] = value instead\n",
            "\n",
            "See the caveats in the documentation: https://pandas.pydata.org/pandas-docs/stable/user_guide/indexing.html#returning-a-view-versus-a-copy\n",
            "  selected_data['day_of_week']=selected_data['day_of_week'].astype(int)\n",
            "<ipython-input-78-4a953d0ce718>:7: SettingWithCopyWarning: \n",
            "A value is trying to be set on a copy of a slice from a DataFrame.\n",
            "Try using .loc[row_indexer,col_indexer] = value instead\n",
            "\n",
            "See the caveats in the documentation: https://pandas.pydata.org/pandas-docs/stable/user_guide/indexing.html#returning-a-view-versus-a-copy\n",
            "  selected_data['hour_of_day']=selected_data['hour_of_day'].astype(int)\n"
          ]
        }
      ]
    },
    {
      "cell_type": "code",
      "source": [
        "data.head()"
      ],
      "metadata": {
        "colab": {
          "base_uri": "https://localhost:8080/",
          "height": 289
        },
        "id": "_RBrpiSM0t80",
        "outputId": "2feb1190-0530-4517-e6f4-a5d33eaa8072"
      },
      "execution_count": 79,
      "outputs": [
        {
          "output_type": "execute_result",
          "data": {
            "text/plain": [
              "         date train_id                 from                   to  \\\n",
              "0  2020-05-01     5543  Newark Penn Station  Newark Penn Station   \n",
              "1  2020-05-01     5543  Newark Penn Station                Union   \n",
              "2  2020-05-01     5543                Union         Roselle Park   \n",
              "3  2020-05-01     5543         Roselle Park             Cranford   \n",
              "4  2020-05-01     5543             Cranford            Westfield   \n",
              "\n",
              "       scheduled_time         actual_time  delay_minutes    status  \\\n",
              "0 2020-05-01 23:38:00 2020-05-01 23:40:09       2.150000  departed   \n",
              "1 2020-05-01 23:47:00 2020-05-01 23:47:01       0.016667  departed   \n",
              "2 2020-05-01 23:50:00 2020-05-01 23:51:04       1.066667  departed   \n",
              "3 2020-05-01 23:55:00 2020-05-01 23:55:31       0.516667  departed   \n",
              "4 2020-05-01 23:59:00 2020-05-01 23:59:01       0.016667  departed   \n",
              "\n",
              "             line  day_of_week  hour_of_day  \n",
              "0  Raritan Valley            4           23  \n",
              "1  Raritan Valley            4           23  \n",
              "2  Raritan Valley            4           23  \n",
              "3  Raritan Valley            4           23  \n",
              "4  Raritan Valley            4           23  "
            ],
            "text/html": [
              "\n",
              "  <div id=\"df-6aa3230d-43cb-40e1-a2ed-d03d35aa44f6\" class=\"colab-df-container\">\n",
              "    <div>\n",
              "<style scoped>\n",
              "    .dataframe tbody tr th:only-of-type {\n",
              "        vertical-align: middle;\n",
              "    }\n",
              "\n",
              "    .dataframe tbody tr th {\n",
              "        vertical-align: top;\n",
              "    }\n",
              "\n",
              "    .dataframe thead th {\n",
              "        text-align: right;\n",
              "    }\n",
              "</style>\n",
              "<table border=\"1\" class=\"dataframe\">\n",
              "  <thead>\n",
              "    <tr style=\"text-align: right;\">\n",
              "      <th></th>\n",
              "      <th>date</th>\n",
              "      <th>train_id</th>\n",
              "      <th>from</th>\n",
              "      <th>to</th>\n",
              "      <th>scheduled_time</th>\n",
              "      <th>actual_time</th>\n",
              "      <th>delay_minutes</th>\n",
              "      <th>status</th>\n",
              "      <th>line</th>\n",
              "      <th>day_of_week</th>\n",
              "      <th>hour_of_day</th>\n",
              "    </tr>\n",
              "  </thead>\n",
              "  <tbody>\n",
              "    <tr>\n",
              "      <th>0</th>\n",
              "      <td>2020-05-01</td>\n",
              "      <td>5543</td>\n",
              "      <td>Newark Penn Station</td>\n",
              "      <td>Newark Penn Station</td>\n",
              "      <td>2020-05-01 23:38:00</td>\n",
              "      <td>2020-05-01 23:40:09</td>\n",
              "      <td>2.150000</td>\n",
              "      <td>departed</td>\n",
              "      <td>Raritan Valley</td>\n",
              "      <td>4</td>\n",
              "      <td>23</td>\n",
              "    </tr>\n",
              "    <tr>\n",
              "      <th>1</th>\n",
              "      <td>2020-05-01</td>\n",
              "      <td>5543</td>\n",
              "      <td>Newark Penn Station</td>\n",
              "      <td>Union</td>\n",
              "      <td>2020-05-01 23:47:00</td>\n",
              "      <td>2020-05-01 23:47:01</td>\n",
              "      <td>0.016667</td>\n",
              "      <td>departed</td>\n",
              "      <td>Raritan Valley</td>\n",
              "      <td>4</td>\n",
              "      <td>23</td>\n",
              "    </tr>\n",
              "    <tr>\n",
              "      <th>2</th>\n",
              "      <td>2020-05-01</td>\n",
              "      <td>5543</td>\n",
              "      <td>Union</td>\n",
              "      <td>Roselle Park</td>\n",
              "      <td>2020-05-01 23:50:00</td>\n",
              "      <td>2020-05-01 23:51:04</td>\n",
              "      <td>1.066667</td>\n",
              "      <td>departed</td>\n",
              "      <td>Raritan Valley</td>\n",
              "      <td>4</td>\n",
              "      <td>23</td>\n",
              "    </tr>\n",
              "    <tr>\n",
              "      <th>3</th>\n",
              "      <td>2020-05-01</td>\n",
              "      <td>5543</td>\n",
              "      <td>Roselle Park</td>\n",
              "      <td>Cranford</td>\n",
              "      <td>2020-05-01 23:55:00</td>\n",
              "      <td>2020-05-01 23:55:31</td>\n",
              "      <td>0.516667</td>\n",
              "      <td>departed</td>\n",
              "      <td>Raritan Valley</td>\n",
              "      <td>4</td>\n",
              "      <td>23</td>\n",
              "    </tr>\n",
              "    <tr>\n",
              "      <th>4</th>\n",
              "      <td>2020-05-01</td>\n",
              "      <td>5543</td>\n",
              "      <td>Cranford</td>\n",
              "      <td>Westfield</td>\n",
              "      <td>2020-05-01 23:59:00</td>\n",
              "      <td>2020-05-01 23:59:01</td>\n",
              "      <td>0.016667</td>\n",
              "      <td>departed</td>\n",
              "      <td>Raritan Valley</td>\n",
              "      <td>4</td>\n",
              "      <td>23</td>\n",
              "    </tr>\n",
              "  </tbody>\n",
              "</table>\n",
              "</div>\n",
              "    <div class=\"colab-df-buttons\">\n",
              "\n",
              "  <div class=\"colab-df-container\">\n",
              "    <button class=\"colab-df-convert\" onclick=\"convertToInteractive('df-6aa3230d-43cb-40e1-a2ed-d03d35aa44f6')\"\n",
              "            title=\"Convert this dataframe to an interactive table.\"\n",
              "            style=\"display:none;\">\n",
              "\n",
              "  <svg xmlns=\"http://www.w3.org/2000/svg\" height=\"24px\" viewBox=\"0 -960 960 960\">\n",
              "    <path d=\"M120-120v-720h720v720H120Zm60-500h600v-160H180v160Zm220 220h160v-160H400v160Zm0 220h160v-160H400v160ZM180-400h160v-160H180v160Zm440 0h160v-160H620v160ZM180-180h160v-160H180v160Zm440 0h160v-160H620v160Z\"/>\n",
              "  </svg>\n",
              "    </button>\n",
              "\n",
              "  <style>\n",
              "    .colab-df-container {\n",
              "      display:flex;\n",
              "      gap: 12px;\n",
              "    }\n",
              "\n",
              "    .colab-df-convert {\n",
              "      background-color: #E8F0FE;\n",
              "      border: none;\n",
              "      border-radius: 50%;\n",
              "      cursor: pointer;\n",
              "      display: none;\n",
              "      fill: #1967D2;\n",
              "      height: 32px;\n",
              "      padding: 0 0 0 0;\n",
              "      width: 32px;\n",
              "    }\n",
              "\n",
              "    .colab-df-convert:hover {\n",
              "      background-color: #E2EBFA;\n",
              "      box-shadow: 0px 1px 2px rgba(60, 64, 67, 0.3), 0px 1px 3px 1px rgba(60, 64, 67, 0.15);\n",
              "      fill: #174EA6;\n",
              "    }\n",
              "\n",
              "    .colab-df-buttons div {\n",
              "      margin-bottom: 4px;\n",
              "    }\n",
              "\n",
              "    [theme=dark] .colab-df-convert {\n",
              "      background-color: #3B4455;\n",
              "      fill: #D2E3FC;\n",
              "    }\n",
              "\n",
              "    [theme=dark] .colab-df-convert:hover {\n",
              "      background-color: #434B5C;\n",
              "      box-shadow: 0px 1px 3px 1px rgba(0, 0, 0, 0.15);\n",
              "      filter: drop-shadow(0px 1px 2px rgba(0, 0, 0, 0.3));\n",
              "      fill: #FFFFFF;\n",
              "    }\n",
              "  </style>\n",
              "\n",
              "    <script>\n",
              "      const buttonEl =\n",
              "        document.querySelector('#df-6aa3230d-43cb-40e1-a2ed-d03d35aa44f6 button.colab-df-convert');\n",
              "      buttonEl.style.display =\n",
              "        google.colab.kernel.accessAllowed ? 'block' : 'none';\n",
              "\n",
              "      async function convertToInteractive(key) {\n",
              "        const element = document.querySelector('#df-6aa3230d-43cb-40e1-a2ed-d03d35aa44f6');\n",
              "        const dataTable =\n",
              "          await google.colab.kernel.invokeFunction('convertToInteractive',\n",
              "                                                    [key], {});\n",
              "        if (!dataTable) return;\n",
              "\n",
              "        const docLinkHtml = 'Like what you see? Visit the ' +\n",
              "          '<a target=\"_blank\" href=https://colab.research.google.com/notebooks/data_table.ipynb>data table notebook</a>'\n",
              "          + ' to learn more about interactive tables.';\n",
              "        element.innerHTML = '';\n",
              "        dataTable['output_type'] = 'display_data';\n",
              "        await google.colab.output.renderOutput(dataTable, element);\n",
              "        const docLink = document.createElement('div');\n",
              "        docLink.innerHTML = docLinkHtml;\n",
              "        element.appendChild(docLink);\n",
              "      }\n",
              "    </script>\n",
              "  </div>\n",
              "\n",
              "\n",
              "<div id=\"df-1fbb8c72-c825-4d25-a1e7-97167bc72046\">\n",
              "  <button class=\"colab-df-quickchart\" onclick=\"quickchart('df-1fbb8c72-c825-4d25-a1e7-97167bc72046')\"\n",
              "            title=\"Suggest charts\"\n",
              "            style=\"display:none;\">\n",
              "\n",
              "<svg xmlns=\"http://www.w3.org/2000/svg\" height=\"24px\"viewBox=\"0 0 24 24\"\n",
              "     width=\"24px\">\n",
              "    <g>\n",
              "        <path d=\"M19 3H5c-1.1 0-2 .9-2 2v14c0 1.1.9 2 2 2h14c1.1 0 2-.9 2-2V5c0-1.1-.9-2-2-2zM9 17H7v-7h2v7zm4 0h-2V7h2v10zm4 0h-2v-4h2v4z\"/>\n",
              "    </g>\n",
              "</svg>\n",
              "  </button>\n",
              "\n",
              "<style>\n",
              "  .colab-df-quickchart {\n",
              "      --bg-color: #E8F0FE;\n",
              "      --fill-color: #1967D2;\n",
              "      --hover-bg-color: #E2EBFA;\n",
              "      --hover-fill-color: #174EA6;\n",
              "      --disabled-fill-color: #AAA;\n",
              "      --disabled-bg-color: #DDD;\n",
              "  }\n",
              "\n",
              "  [theme=dark] .colab-df-quickchart {\n",
              "      --bg-color: #3B4455;\n",
              "      --fill-color: #D2E3FC;\n",
              "      --hover-bg-color: #434B5C;\n",
              "      --hover-fill-color: #FFFFFF;\n",
              "      --disabled-bg-color: #3B4455;\n",
              "      --disabled-fill-color: #666;\n",
              "  }\n",
              "\n",
              "  .colab-df-quickchart {\n",
              "    background-color: var(--bg-color);\n",
              "    border: none;\n",
              "    border-radius: 50%;\n",
              "    cursor: pointer;\n",
              "    display: none;\n",
              "    fill: var(--fill-color);\n",
              "    height: 32px;\n",
              "    padding: 0;\n",
              "    width: 32px;\n",
              "  }\n",
              "\n",
              "  .colab-df-quickchart:hover {\n",
              "    background-color: var(--hover-bg-color);\n",
              "    box-shadow: 0 1px 2px rgba(60, 64, 67, 0.3), 0 1px 3px 1px rgba(60, 64, 67, 0.15);\n",
              "    fill: var(--button-hover-fill-color);\n",
              "  }\n",
              "\n",
              "  .colab-df-quickchart-complete:disabled,\n",
              "  .colab-df-quickchart-complete:disabled:hover {\n",
              "    background-color: var(--disabled-bg-color);\n",
              "    fill: var(--disabled-fill-color);\n",
              "    box-shadow: none;\n",
              "  }\n",
              "\n",
              "  .colab-df-spinner {\n",
              "    border: 2px solid var(--fill-color);\n",
              "    border-color: transparent;\n",
              "    border-bottom-color: var(--fill-color);\n",
              "    animation:\n",
              "      spin 1s steps(1) infinite;\n",
              "  }\n",
              "\n",
              "  @keyframes spin {\n",
              "    0% {\n",
              "      border-color: transparent;\n",
              "      border-bottom-color: var(--fill-color);\n",
              "      border-left-color: var(--fill-color);\n",
              "    }\n",
              "    20% {\n",
              "      border-color: transparent;\n",
              "      border-left-color: var(--fill-color);\n",
              "      border-top-color: var(--fill-color);\n",
              "    }\n",
              "    30% {\n",
              "      border-color: transparent;\n",
              "      border-left-color: var(--fill-color);\n",
              "      border-top-color: var(--fill-color);\n",
              "      border-right-color: var(--fill-color);\n",
              "    }\n",
              "    40% {\n",
              "      border-color: transparent;\n",
              "      border-right-color: var(--fill-color);\n",
              "      border-top-color: var(--fill-color);\n",
              "    }\n",
              "    60% {\n",
              "      border-color: transparent;\n",
              "      border-right-color: var(--fill-color);\n",
              "    }\n",
              "    80% {\n",
              "      border-color: transparent;\n",
              "      border-right-color: var(--fill-color);\n",
              "      border-bottom-color: var(--fill-color);\n",
              "    }\n",
              "    90% {\n",
              "      border-color: transparent;\n",
              "      border-bottom-color: var(--fill-color);\n",
              "    }\n",
              "  }\n",
              "</style>\n",
              "\n",
              "  <script>\n",
              "    async function quickchart(key) {\n",
              "      const quickchartButtonEl =\n",
              "        document.querySelector('#' + key + ' button');\n",
              "      quickchartButtonEl.disabled = true;  // To prevent multiple clicks.\n",
              "      quickchartButtonEl.classList.add('colab-df-spinner');\n",
              "      try {\n",
              "        const charts = await google.colab.kernel.invokeFunction(\n",
              "            'suggestCharts', [key], {});\n",
              "      } catch (error) {\n",
              "        console.error('Error during call to suggestCharts:', error);\n",
              "      }\n",
              "      quickchartButtonEl.classList.remove('colab-df-spinner');\n",
              "      quickchartButtonEl.classList.add('colab-df-quickchart-complete');\n",
              "    }\n",
              "    (() => {\n",
              "      let quickchartButtonEl =\n",
              "        document.querySelector('#df-1fbb8c72-c825-4d25-a1e7-97167bc72046 button');\n",
              "      quickchartButtonEl.style.display =\n",
              "        google.colab.kernel.accessAllowed ? 'block' : 'none';\n",
              "    })();\n",
              "  </script>\n",
              "</div>\n",
              "\n",
              "    </div>\n",
              "  </div>\n"
            ],
            "application/vnd.google.colaboratory.intrinsic+json": {
              "type": "dataframe",
              "variable_name": "data",
              "summary": "{\n  \"name\": \"data\",\n  \"rows\": 87172,\n  \"fields\": [\n    {\n      \"column\": \"date\",\n      \"properties\": {\n        \"dtype\": \"object\",\n        \"num_unique_values\": 18,\n        \"samples\": [\n          \"2020-05-01\",\n          \"2020-05-02\",\n          \"2020-05-09\"\n        ],\n        \"semantic_type\": \"\",\n        \"description\": \"\"\n      }\n    },\n    {\n      \"column\": \"train_id\",\n      \"properties\": {\n        \"dtype\": \"category\",\n        \"num_unique_values\": 464,\n        \"samples\": [\n          \"6932\",\n          \"7871\",\n          \"7224\"\n        ],\n        \"semantic_type\": \"\",\n        \"description\": \"\"\n      }\n    },\n    {\n      \"column\": \"from\",\n      \"properties\": {\n        \"dtype\": \"category\",\n        \"num_unique_values\": 156,\n        \"samples\": [\n          \"Paterson\",\n          \"Highland Avenue\",\n          \"Mountain Station\"\n        ],\n        \"semantic_type\": \"\",\n        \"description\": \"\"\n      }\n    },\n    {\n      \"column\": \"to\",\n      \"properties\": {\n        \"dtype\": \"category\",\n        \"num_unique_values\": 155,\n        \"samples\": [\n          \"Madison\",\n          \"Upper Montclair\",\n          \"Aberdeen-Matawan\"\n        ],\n        \"semantic_type\": \"\",\n        \"description\": \"\"\n      }\n    },\n    {\n      \"column\": \"scheduled_time\",\n      \"properties\": {\n        \"dtype\": \"date\",\n        \"min\": \"2020-05-01 04:03:00\",\n        \"max\": \"2020-05-19 03:22:00\",\n        \"num_unique_values\": 21901,\n        \"samples\": [\n          \"2020-05-10 00:36:00\",\n          \"2020-05-12 23:56:00\",\n          \"2020-05-01 12:39:00\"\n        ],\n        \"semantic_type\": \"\",\n        \"description\": \"\"\n      }\n    },\n    {\n      \"column\": \"actual_time\",\n      \"properties\": {\n        \"dtype\": \"date\",\n        \"min\": \"2020-05-01 04:03:03\",\n        \"max\": \"2020-05-19 03:21:00\",\n        \"num_unique_values\": 58492,\n        \"samples\": [\n          \"2020-05-08 09:14:08\",\n          \"2020-05-05 17:03:11\",\n          \"2020-05-10 12:25:02\"\n        ],\n        \"semantic_type\": \"\",\n        \"description\": \"\"\n      }\n    },\n    {\n      \"column\": \"delay_minutes\",\n      \"properties\": {\n        \"dtype\": \"number\",\n        \"std\": 10.25310119020857,\n        \"min\": 0.0,\n        \"max\": 182.0,\n        \"num_unique_values\": 1761,\n        \"samples\": [\n          33.2,\n          16.31666666666667,\n          19.05\n        ],\n        \"semantic_type\": \"\",\n        \"description\": \"\"\n      }\n    },\n    {\n      \"column\": \"status\",\n      \"properties\": {\n        \"dtype\": \"category\",\n        \"num_unique_values\": 3,\n        \"samples\": [\n          \"departed\",\n          \"estimated\",\n          \"cancelled\"\n        ],\n        \"semantic_type\": \"\",\n        \"description\": \"\"\n      }\n    },\n    {\n      \"column\": \"line\",\n      \"properties\": {\n        \"dtype\": \"category\",\n        \"num_unique_values\": 11,\n        \"samples\": [\n          \"Gladstone Branch\",\n          \"Raritan Valley\",\n          \"Montclair-Boonton\"\n        ],\n        \"semantic_type\": \"\",\n        \"description\": \"\"\n      }\n    },\n    {\n      \"column\": \"day_of_week\",\n      \"properties\": {\n        \"dtype\": \"int32\",\n        \"num_unique_values\": 7,\n        \"samples\": [\n          4,\n          5,\n          2\n        ],\n        \"semantic_type\": \"\",\n        \"description\": \"\"\n      }\n    },\n    {\n      \"column\": \"hour_of_day\",\n      \"properties\": {\n        \"dtype\": \"int32\",\n        \"num_unique_values\": 24,\n        \"samples\": [\n          5,\n          16,\n          23\n        ],\n        \"semantic_type\": \"\",\n        \"description\": \"\"\n      }\n    }\n  ]\n}"
            }
          },
          "metadata": {},
          "execution_count": 79
        }
      ]
    },
    {
      "cell_type": "code",
      "source": [
        "selected_data.dtypes"
      ],
      "metadata": {
        "colab": {
          "base_uri": "https://localhost:8080/"
        },
        "id": "sBTQvXLG0pDi",
        "outputId": "f6d02813-94d1-4b69-acf3-86291a69b67e"
      },
      "execution_count": 80,
      "outputs": [
        {
          "output_type": "execute_result",
          "data": {
            "text/plain": [
              "day_of_week        int64\n",
              "hour_of_day        int64\n",
              "from              object\n",
              "to                object\n",
              "line              object\n",
              "delay_minutes    float64\n",
              "dtype: object"
            ]
          },
          "metadata": {},
          "execution_count": 80
        }
      ]
    },
    {
      "cell_type": "code",
      "source": [
        "selected_data.head()"
      ],
      "metadata": {
        "colab": {
          "base_uri": "https://localhost:8080/",
          "height": 204
        },
        "id": "kBp9dLU71g8G",
        "outputId": "87bd55c9-df6f-4062-8476-51c76f5878a9"
      },
      "execution_count": 81,
      "outputs": [
        {
          "output_type": "execute_result",
          "data": {
            "text/plain": [
              "   day_of_week  hour_of_day                 from                   to  \\\n",
              "0            4           23  Newark Penn Station  Newark Penn Station   \n",
              "1            4           23  Newark Penn Station                Union   \n",
              "2            4           23                Union         Roselle Park   \n",
              "3            4           23         Roselle Park             Cranford   \n",
              "4            4           23             Cranford            Westfield   \n",
              "\n",
              "             line  delay_minutes  \n",
              "0  Raritan Valley       2.150000  \n",
              "1  Raritan Valley       0.016667  \n",
              "2  Raritan Valley       1.066667  \n",
              "3  Raritan Valley       0.516667  \n",
              "4  Raritan Valley       0.016667  "
            ],
            "text/html": [
              "\n",
              "  <div id=\"df-5a284a0b-d0cc-46ab-ba71-b8318a57c73b\" class=\"colab-df-container\">\n",
              "    <div>\n",
              "<style scoped>\n",
              "    .dataframe tbody tr th:only-of-type {\n",
              "        vertical-align: middle;\n",
              "    }\n",
              "\n",
              "    .dataframe tbody tr th {\n",
              "        vertical-align: top;\n",
              "    }\n",
              "\n",
              "    .dataframe thead th {\n",
              "        text-align: right;\n",
              "    }\n",
              "</style>\n",
              "<table border=\"1\" class=\"dataframe\">\n",
              "  <thead>\n",
              "    <tr style=\"text-align: right;\">\n",
              "      <th></th>\n",
              "      <th>day_of_week</th>\n",
              "      <th>hour_of_day</th>\n",
              "      <th>from</th>\n",
              "      <th>to</th>\n",
              "      <th>line</th>\n",
              "      <th>delay_minutes</th>\n",
              "    </tr>\n",
              "  </thead>\n",
              "  <tbody>\n",
              "    <tr>\n",
              "      <th>0</th>\n",
              "      <td>4</td>\n",
              "      <td>23</td>\n",
              "      <td>Newark Penn Station</td>\n",
              "      <td>Newark Penn Station</td>\n",
              "      <td>Raritan Valley</td>\n",
              "      <td>2.150000</td>\n",
              "    </tr>\n",
              "    <tr>\n",
              "      <th>1</th>\n",
              "      <td>4</td>\n",
              "      <td>23</td>\n",
              "      <td>Newark Penn Station</td>\n",
              "      <td>Union</td>\n",
              "      <td>Raritan Valley</td>\n",
              "      <td>0.016667</td>\n",
              "    </tr>\n",
              "    <tr>\n",
              "      <th>2</th>\n",
              "      <td>4</td>\n",
              "      <td>23</td>\n",
              "      <td>Union</td>\n",
              "      <td>Roselle Park</td>\n",
              "      <td>Raritan Valley</td>\n",
              "      <td>1.066667</td>\n",
              "    </tr>\n",
              "    <tr>\n",
              "      <th>3</th>\n",
              "      <td>4</td>\n",
              "      <td>23</td>\n",
              "      <td>Roselle Park</td>\n",
              "      <td>Cranford</td>\n",
              "      <td>Raritan Valley</td>\n",
              "      <td>0.516667</td>\n",
              "    </tr>\n",
              "    <tr>\n",
              "      <th>4</th>\n",
              "      <td>4</td>\n",
              "      <td>23</td>\n",
              "      <td>Cranford</td>\n",
              "      <td>Westfield</td>\n",
              "      <td>Raritan Valley</td>\n",
              "      <td>0.016667</td>\n",
              "    </tr>\n",
              "  </tbody>\n",
              "</table>\n",
              "</div>\n",
              "    <div class=\"colab-df-buttons\">\n",
              "\n",
              "  <div class=\"colab-df-container\">\n",
              "    <button class=\"colab-df-convert\" onclick=\"convertToInteractive('df-5a284a0b-d0cc-46ab-ba71-b8318a57c73b')\"\n",
              "            title=\"Convert this dataframe to an interactive table.\"\n",
              "            style=\"display:none;\">\n",
              "\n",
              "  <svg xmlns=\"http://www.w3.org/2000/svg\" height=\"24px\" viewBox=\"0 -960 960 960\">\n",
              "    <path d=\"M120-120v-720h720v720H120Zm60-500h600v-160H180v160Zm220 220h160v-160H400v160Zm0 220h160v-160H400v160ZM180-400h160v-160H180v160Zm440 0h160v-160H620v160ZM180-180h160v-160H180v160Zm440 0h160v-160H620v160Z\"/>\n",
              "  </svg>\n",
              "    </button>\n",
              "\n",
              "  <style>\n",
              "    .colab-df-container {\n",
              "      display:flex;\n",
              "      gap: 12px;\n",
              "    }\n",
              "\n",
              "    .colab-df-convert {\n",
              "      background-color: #E8F0FE;\n",
              "      border: none;\n",
              "      border-radius: 50%;\n",
              "      cursor: pointer;\n",
              "      display: none;\n",
              "      fill: #1967D2;\n",
              "      height: 32px;\n",
              "      padding: 0 0 0 0;\n",
              "      width: 32px;\n",
              "    }\n",
              "\n",
              "    .colab-df-convert:hover {\n",
              "      background-color: #E2EBFA;\n",
              "      box-shadow: 0px 1px 2px rgba(60, 64, 67, 0.3), 0px 1px 3px 1px rgba(60, 64, 67, 0.15);\n",
              "      fill: #174EA6;\n",
              "    }\n",
              "\n",
              "    .colab-df-buttons div {\n",
              "      margin-bottom: 4px;\n",
              "    }\n",
              "\n",
              "    [theme=dark] .colab-df-convert {\n",
              "      background-color: #3B4455;\n",
              "      fill: #D2E3FC;\n",
              "    }\n",
              "\n",
              "    [theme=dark] .colab-df-convert:hover {\n",
              "      background-color: #434B5C;\n",
              "      box-shadow: 0px 1px 3px 1px rgba(0, 0, 0, 0.15);\n",
              "      filter: drop-shadow(0px 1px 2px rgba(0, 0, 0, 0.3));\n",
              "      fill: #FFFFFF;\n",
              "    }\n",
              "  </style>\n",
              "\n",
              "    <script>\n",
              "      const buttonEl =\n",
              "        document.querySelector('#df-5a284a0b-d0cc-46ab-ba71-b8318a57c73b button.colab-df-convert');\n",
              "      buttonEl.style.display =\n",
              "        google.colab.kernel.accessAllowed ? 'block' : 'none';\n",
              "\n",
              "      async function convertToInteractive(key) {\n",
              "        const element = document.querySelector('#df-5a284a0b-d0cc-46ab-ba71-b8318a57c73b');\n",
              "        const dataTable =\n",
              "          await google.colab.kernel.invokeFunction('convertToInteractive',\n",
              "                                                    [key], {});\n",
              "        if (!dataTable) return;\n",
              "\n",
              "        const docLinkHtml = 'Like what you see? Visit the ' +\n",
              "          '<a target=\"_blank\" href=https://colab.research.google.com/notebooks/data_table.ipynb>data table notebook</a>'\n",
              "          + ' to learn more about interactive tables.';\n",
              "        element.innerHTML = '';\n",
              "        dataTable['output_type'] = 'display_data';\n",
              "        await google.colab.output.renderOutput(dataTable, element);\n",
              "        const docLink = document.createElement('div');\n",
              "        docLink.innerHTML = docLinkHtml;\n",
              "        element.appendChild(docLink);\n",
              "      }\n",
              "    </script>\n",
              "  </div>\n",
              "\n",
              "\n",
              "<div id=\"df-f3e50db8-25f0-4bf3-badd-90541d9b27c4\">\n",
              "  <button class=\"colab-df-quickchart\" onclick=\"quickchart('df-f3e50db8-25f0-4bf3-badd-90541d9b27c4')\"\n",
              "            title=\"Suggest charts\"\n",
              "            style=\"display:none;\">\n",
              "\n",
              "<svg xmlns=\"http://www.w3.org/2000/svg\" height=\"24px\"viewBox=\"0 0 24 24\"\n",
              "     width=\"24px\">\n",
              "    <g>\n",
              "        <path d=\"M19 3H5c-1.1 0-2 .9-2 2v14c0 1.1.9 2 2 2h14c1.1 0 2-.9 2-2V5c0-1.1-.9-2-2-2zM9 17H7v-7h2v7zm4 0h-2V7h2v10zm4 0h-2v-4h2v4z\"/>\n",
              "    </g>\n",
              "</svg>\n",
              "  </button>\n",
              "\n",
              "<style>\n",
              "  .colab-df-quickchart {\n",
              "      --bg-color: #E8F0FE;\n",
              "      --fill-color: #1967D2;\n",
              "      --hover-bg-color: #E2EBFA;\n",
              "      --hover-fill-color: #174EA6;\n",
              "      --disabled-fill-color: #AAA;\n",
              "      --disabled-bg-color: #DDD;\n",
              "  }\n",
              "\n",
              "  [theme=dark] .colab-df-quickchart {\n",
              "      --bg-color: #3B4455;\n",
              "      --fill-color: #D2E3FC;\n",
              "      --hover-bg-color: #434B5C;\n",
              "      --hover-fill-color: #FFFFFF;\n",
              "      --disabled-bg-color: #3B4455;\n",
              "      --disabled-fill-color: #666;\n",
              "  }\n",
              "\n",
              "  .colab-df-quickchart {\n",
              "    background-color: var(--bg-color);\n",
              "    border: none;\n",
              "    border-radius: 50%;\n",
              "    cursor: pointer;\n",
              "    display: none;\n",
              "    fill: var(--fill-color);\n",
              "    height: 32px;\n",
              "    padding: 0;\n",
              "    width: 32px;\n",
              "  }\n",
              "\n",
              "  .colab-df-quickchart:hover {\n",
              "    background-color: var(--hover-bg-color);\n",
              "    box-shadow: 0 1px 2px rgba(60, 64, 67, 0.3), 0 1px 3px 1px rgba(60, 64, 67, 0.15);\n",
              "    fill: var(--button-hover-fill-color);\n",
              "  }\n",
              "\n",
              "  .colab-df-quickchart-complete:disabled,\n",
              "  .colab-df-quickchart-complete:disabled:hover {\n",
              "    background-color: var(--disabled-bg-color);\n",
              "    fill: var(--disabled-fill-color);\n",
              "    box-shadow: none;\n",
              "  }\n",
              "\n",
              "  .colab-df-spinner {\n",
              "    border: 2px solid var(--fill-color);\n",
              "    border-color: transparent;\n",
              "    border-bottom-color: var(--fill-color);\n",
              "    animation:\n",
              "      spin 1s steps(1) infinite;\n",
              "  }\n",
              "\n",
              "  @keyframes spin {\n",
              "    0% {\n",
              "      border-color: transparent;\n",
              "      border-bottom-color: var(--fill-color);\n",
              "      border-left-color: var(--fill-color);\n",
              "    }\n",
              "    20% {\n",
              "      border-color: transparent;\n",
              "      border-left-color: var(--fill-color);\n",
              "      border-top-color: var(--fill-color);\n",
              "    }\n",
              "    30% {\n",
              "      border-color: transparent;\n",
              "      border-left-color: var(--fill-color);\n",
              "      border-top-color: var(--fill-color);\n",
              "      border-right-color: var(--fill-color);\n",
              "    }\n",
              "    40% {\n",
              "      border-color: transparent;\n",
              "      border-right-color: var(--fill-color);\n",
              "      border-top-color: var(--fill-color);\n",
              "    }\n",
              "    60% {\n",
              "      border-color: transparent;\n",
              "      border-right-color: var(--fill-color);\n",
              "    }\n",
              "    80% {\n",
              "      border-color: transparent;\n",
              "      border-right-color: var(--fill-color);\n",
              "      border-bottom-color: var(--fill-color);\n",
              "    }\n",
              "    90% {\n",
              "      border-color: transparent;\n",
              "      border-bottom-color: var(--fill-color);\n",
              "    }\n",
              "  }\n",
              "</style>\n",
              "\n",
              "  <script>\n",
              "    async function quickchart(key) {\n",
              "      const quickchartButtonEl =\n",
              "        document.querySelector('#' + key + ' button');\n",
              "      quickchartButtonEl.disabled = true;  // To prevent multiple clicks.\n",
              "      quickchartButtonEl.classList.add('colab-df-spinner');\n",
              "      try {\n",
              "        const charts = await google.colab.kernel.invokeFunction(\n",
              "            'suggestCharts', [key], {});\n",
              "      } catch (error) {\n",
              "        console.error('Error during call to suggestCharts:', error);\n",
              "      }\n",
              "      quickchartButtonEl.classList.remove('colab-df-spinner');\n",
              "      quickchartButtonEl.classList.add('colab-df-quickchart-complete');\n",
              "    }\n",
              "    (() => {\n",
              "      let quickchartButtonEl =\n",
              "        document.querySelector('#df-f3e50db8-25f0-4bf3-badd-90541d9b27c4 button');\n",
              "      quickchartButtonEl.style.display =\n",
              "        google.colab.kernel.accessAllowed ? 'block' : 'none';\n",
              "    })();\n",
              "  </script>\n",
              "</div>\n",
              "\n",
              "    </div>\n",
              "  </div>\n"
            ],
            "application/vnd.google.colaboratory.intrinsic+json": {
              "type": "dataframe",
              "variable_name": "selected_data",
              "summary": "{\n  \"name\": \"selected_data\",\n  \"rows\": 87172,\n  \"fields\": [\n    {\n      \"column\": \"day_of_week\",\n      \"properties\": {\n        \"dtype\": \"number\",\n        \"std\": 2,\n        \"min\": 0,\n        \"max\": 6,\n        \"num_unique_values\": 7,\n        \"samples\": [\n          4,\n          5,\n          2\n        ],\n        \"semantic_type\": \"\",\n        \"description\": \"\"\n      }\n    },\n    {\n      \"column\": \"hour_of_day\",\n      \"properties\": {\n        \"dtype\": \"number\",\n        \"std\": 5,\n        \"min\": 0,\n        \"max\": 23,\n        \"num_unique_values\": 24,\n        \"samples\": [\n          5,\n          16,\n          23\n        ],\n        \"semantic_type\": \"\",\n        \"description\": \"\"\n      }\n    },\n    {\n      \"column\": \"from\",\n      \"properties\": {\n        \"dtype\": \"category\",\n        \"num_unique_values\": 156,\n        \"samples\": [\n          \"Paterson\",\n          \"Highland Avenue\",\n          \"Mountain Station\"\n        ],\n        \"semantic_type\": \"\",\n        \"description\": \"\"\n      }\n    },\n    {\n      \"column\": \"to\",\n      \"properties\": {\n        \"dtype\": \"category\",\n        \"num_unique_values\": 155,\n        \"samples\": [\n          \"Madison\",\n          \"Upper Montclair\",\n          \"Aberdeen-Matawan\"\n        ],\n        \"semantic_type\": \"\",\n        \"description\": \"\"\n      }\n    },\n    {\n      \"column\": \"line\",\n      \"properties\": {\n        \"dtype\": \"category\",\n        \"num_unique_values\": 11,\n        \"samples\": [\n          \"Gladstone Branch\",\n          \"Raritan Valley\",\n          \"Montclair-Boonton\"\n        ],\n        \"semantic_type\": \"\",\n        \"description\": \"\"\n      }\n    },\n    {\n      \"column\": \"delay_minutes\",\n      \"properties\": {\n        \"dtype\": \"number\",\n        \"std\": 10.25310119020857,\n        \"min\": 0.0,\n        \"max\": 182.0,\n        \"num_unique_values\": 1761,\n        \"samples\": [\n          33.2,\n          16.31666666666667,\n          19.05\n        ],\n        \"semantic_type\": \"\",\n        \"description\": \"\"\n      }\n    }\n  ]\n}"
            }
          },
          "metadata": {},
          "execution_count": 81
        }
      ]
    },
    {
      "cell_type": "code",
      "source": [
        "# Define preprocessing steps for numerical and categorical features\n",
        "\n",
        "numeric_features = ['delay_minutes']\n",
        "categorical_features = ['day_of_week', 'hour_of_day', 'from', 'to', 'line']\n",
        "numeric_transformer = Pipeline(steps=[\n",
        "    ('scaler', StandardScaler())\n",
        "])\n",
        "\n",
        "categorical_transformer = Pipeline(steps=[\n",
        "    ('onehot', OneHotEncoder(handle_unknown='ignore'))\n",
        "])\n",
        "\n",
        "preprocessor = ColumnTransformer(\n",
        "    transformers=[\n",
        "        ('num', numeric_transformer, numeric_features),\n",
        "        ('cat', categorical_transformer, categorical_features)\n",
        "    ])"
      ],
      "metadata": {
        "id": "9VE5FSUwcZO1"
      },
      "execution_count": 82,
      "outputs": []
    },
    {
      "cell_type": "markdown",
      "source": [
        "# Unsupervised Learning: K-Means with PCA"
      ],
      "metadata": {
        "id": "kSQUMZMlBmux"
      }
    },
    {
      "cell_type": "code",
      "source": [
        "pca_kmeans_pipeline = Pipeline(steps=[\n",
        "    ('preprocessor', preprocessor),\n",
        "    ('pca', PCA(n_components=2)),\n",
        "    ('kmeans', KMeans(n_clusters=4, random_state=42))\n",
        "])\n"
      ],
      "metadata": {
        "id": "tfy-5oLXcZRu"
      },
      "execution_count": 83,
      "outputs": []
    },
    {
      "cell_type": "code",
      "source": [
        "# Drop categorical columns from selected_data\n",
        "selected_data_numeric = selected_data.drop(columns=categorical_features)\n",
        "\n",
        "# Handle missing values if necessary\n",
        "# selected_data_numeric = selected_data_numeric.dropna()\n",
        "\n",
        "# Check the number of features in your dataset\n",
        "num_features = selected_data_numeric.shape[1]\n",
        "\n",
        "# Define preprocessing steps for numerical features\n",
        "preprocessor = ColumnTransformer(\n",
        "    transformers=[\n",
        "        ('num', StandardScaler(), selected_data_numeric.columns)\n",
        "    ])\n",
        "\n",
        "# Apply preprocessing to numerical features\n",
        "selected_data_scaled = preprocessor.fit_transform(selected_data_numeric)\n",
        "\n",
        "# Apply PCA if you have more than one feature\n",
        "if num_features > 1:\n",
        "    pca = PCA(n_components=min(num_features, 2))  # Reduce to the minimum of 2 or the number of features\n",
        "    selected_data_pca = pca.fit_transform(selected_data_scaled)\n",
        "else:\n",
        "    selected_data_pca = selected_data_scaled  # No need for PCA if only one feature\n",
        "\n",
        "# Define KMeans pipeline\n",
        "kmeans_pipeline = Pipeline([\n",
        "    ('kmeans', KMeans(n_clusters=4, random_state=42))\n",
        "])\n",
        "\n",
        "silhouette_scores={}\n",
        "# Fit KMeans pipeline and calculate silhouette scores\n",
        "for k in range(4, 11):  # Trying K values from 4 to 10\n",
        "    kmeans_pipeline.set_params(kmeans__n_clusters=k)\n",
        "    kmeans_pipeline.fit(selected_data_pca)\n",
        "    cluster_labels = kmeans_pipeline.named_steps['kmeans'].labels_\n",
        "    silhouette_avg = silhouette_score(selected_data_pca, cluster_labels)\n",
        "    silhouette_scores[k]=silhouette_avg\n",
        "    print(f\"Silhouette Score for K={k}: {silhouette_avg}\")\n"
      ],
      "metadata": {
        "colab": {
          "base_uri": "https://localhost:8080/"
        },
        "id": "BiZelOVtwSDh",
        "outputId": "28f6f884-8669-4ec8-e8f2-17e5a2b7a6e1"
      },
      "execution_count": 84,
      "outputs": [
        {
          "output_type": "stream",
          "name": "stderr",
          "text": [
            "/usr/local/lib/python3.10/dist-packages/sklearn/cluster/_kmeans.py:870: FutureWarning: The default value of `n_init` will change from 10 to 'auto' in 1.4. Set the value of `n_init` explicitly to suppress the warning\n",
            "  warnings.warn(\n"
          ]
        },
        {
          "output_type": "stream",
          "name": "stdout",
          "text": [
            "Silhouette Score for K=4: 0.8113041273614281\n"
          ]
        },
        {
          "output_type": "stream",
          "name": "stderr",
          "text": [
            "/usr/local/lib/python3.10/dist-packages/sklearn/cluster/_kmeans.py:870: FutureWarning: The default value of `n_init` will change from 10 to 'auto' in 1.4. Set the value of `n_init` explicitly to suppress the warning\n",
            "  warnings.warn(\n"
          ]
        },
        {
          "output_type": "stream",
          "name": "stdout",
          "text": [
            "Silhouette Score for K=5: 0.721105675150763\n"
          ]
        },
        {
          "output_type": "stream",
          "name": "stderr",
          "text": [
            "/usr/local/lib/python3.10/dist-packages/sklearn/cluster/_kmeans.py:870: FutureWarning: The default value of `n_init` will change from 10 to 'auto' in 1.4. Set the value of `n_init` explicitly to suppress the warning\n",
            "  warnings.warn(\n"
          ]
        },
        {
          "output_type": "stream",
          "name": "stdout",
          "text": [
            "Silhouette Score for K=6: 0.6467036583740763\n"
          ]
        },
        {
          "output_type": "stream",
          "name": "stderr",
          "text": [
            "/usr/local/lib/python3.10/dist-packages/sklearn/cluster/_kmeans.py:870: FutureWarning: The default value of `n_init` will change from 10 to 'auto' in 1.4. Set the value of `n_init` explicitly to suppress the warning\n",
            "  warnings.warn(\n"
          ]
        },
        {
          "output_type": "stream",
          "name": "stdout",
          "text": [
            "Silhouette Score for K=7: 0.6467622237820283\n"
          ]
        },
        {
          "output_type": "stream",
          "name": "stderr",
          "text": [
            "/usr/local/lib/python3.10/dist-packages/sklearn/cluster/_kmeans.py:870: FutureWarning: The default value of `n_init` will change from 10 to 'auto' in 1.4. Set the value of `n_init` explicitly to suppress the warning\n",
            "  warnings.warn(\n"
          ]
        },
        {
          "output_type": "stream",
          "name": "stdout",
          "text": [
            "Silhouette Score for K=8: 0.6530488105027259\n"
          ]
        },
        {
          "output_type": "stream",
          "name": "stderr",
          "text": [
            "/usr/local/lib/python3.10/dist-packages/sklearn/cluster/_kmeans.py:870: FutureWarning: The default value of `n_init` will change from 10 to 'auto' in 1.4. Set the value of `n_init` explicitly to suppress the warning\n",
            "  warnings.warn(\n"
          ]
        },
        {
          "output_type": "stream",
          "name": "stdout",
          "text": [
            "Silhouette Score for K=9: 0.6557412268450769\n"
          ]
        },
        {
          "output_type": "stream",
          "name": "stderr",
          "text": [
            "/usr/local/lib/python3.10/dist-packages/sklearn/cluster/_kmeans.py:870: FutureWarning: The default value of `n_init` will change from 10 to 'auto' in 1.4. Set the value of `n_init` explicitly to suppress the warning\n",
            "  warnings.warn(\n"
          ]
        },
        {
          "output_type": "stream",
          "name": "stdout",
          "text": [
            "Silhouette Score for K=10: 0.6569624987513802\n"
          ]
        }
      ]
    },
    {
      "cell_type": "code",
      "source": [
        "# Extract K values and silhouette scores\n",
        "k_values = list(silhouette_scores.keys())\n",
        "silhouette_avg_values = list(silhouette_scores.values())\n",
        "\n",
        "\n",
        "# Visualize silhouette scores\n",
        "plt.plot(k_values, silhouette_avg_values, marker='o')\n",
        "plt.title('Silhouette Scores for Different Numbers of Clusters')\n",
        "plt.xlabel('Number of Clusters (K)')\n",
        "plt.ylabel('Silhouette Score')\n",
        "plt.xticks(k_values)\n",
        "plt.grid(True)\n",
        "plt.show()"
      ],
      "metadata": {
        "colab": {
          "base_uri": "https://localhost:8080/",
          "height": 472
        },
        "id": "auPfcnO84ibP",
        "outputId": "b63e388a-999b-49ca-b61c-2955a8f8e0fd"
      },
      "execution_count": 85,
      "outputs": [
        {
          "output_type": "display_data",
          "data": {
            "text/plain": [
              "<Figure size 640x480 with 1 Axes>"
            ],
            "image/png": "[encoded data removed]"
          },
          "metadata": {}
        }
      ]
    },
    {
      "cell_type": "code",
      "source": [
        "# Add cluster labels to the original dataframe\n",
        "selected_data['cluster'] = cluster_labels"
      ],
      "metadata": {
        "colab": {
          "base_uri": "https://localhost:8080/"
        },
        "id": "nJ-LgFW4zJPw",
        "outputId": "dda7a08c-d418-4887-c879-d1d2dc2d009a"
      },
      "execution_count": 86,
      "outputs": [
        {
          "output_type": "stream",
          "name": "stderr",
          "text": [
            "<ipython-input-86-a1298fb31efb>:2: SettingWithCopyWarning: \n",
            "A value is trying to be set on a copy of a slice from a DataFrame.\n",
            "Try using .loc[row_indexer,col_indexer] = value instead\n",
            "\n",
            "See the caveats in the documentation: https://pandas.pydata.org/pandas-docs/stable/user_guide/indexing.html#returning-a-view-versus-a-copy\n",
            "  selected_data['cluster'] = cluster_labels\n"
          ]
        }
      ]
    },
    {
      "cell_type": "code",
      "source": [
        "# Analyze cluster delays\n",
        "friday_cluster_delay = selected_data[selected_data['day_of_week'] == 4].groupby('cluster')['delay_minutes'].sum()\n",
        "print(\"Cluster train delay on Friday:\\n\", friday_cluster_delay)\n",
        "\n",
        "weekday_rush_hour_clusters = selected_data[(selected_data['day_of_week'] < 5) & (selected_data['hour_of_day'].isin([7, 8, 17, 18]))]\n",
        "rush_hour_cluster_delay = weekday_rush_hour_clusters.groupby('cluster')['delay_minutes'].sum()\n",
        "print(\"Cluster train delays for rush hour on weekday:\\n\", rush_hour_cluster_delay)\n"
      ],
      "metadata": {
        "colab": {
          "base_uri": "https://localhost:8080/"
        },
        "id": "2iDKJV_6zv8k",
        "outputId": "67b44182-ec7a-40de-8b36-90c586ed7887"
      },
      "execution_count": 87,
      "outputs": [
        {
          "output_type": "stream",
          "name": "stdout",
          "text": [
            "Cluster train delay on Friday:\n",
            " cluster\n",
            "0     3879.683333\n",
            "2     5474.550000\n",
            "3     5326.316667\n",
            "4     7881.133333\n",
            "5    14757.233333\n",
            "6     4204.066667\n",
            "7     2043.733333\n",
            "8     4648.183333\n",
            "9     4002.083333\n",
            "Name: delay_minutes, dtype: float64\n",
            "Cluster train delays for rush hour on weekday:\n",
            " cluster\n",
            "0     4137.183333\n",
            "2     5101.666667\n",
            "3      545.000000\n",
            "4    10958.216667\n",
            "5    17450.200000\n",
            "6    15133.866667\n",
            "7      964.766667\n",
            "8     5613.666667\n",
            "9     4804.016667\n",
            "Name: delay_minutes, dtype: float64\n"
          ]
        }
      ]
    },
    {
      "cell_type": "code",
      "source": [
        "# Visualize cluster delays\n",
        "plt.figure(figsize=(12, 6))\n",
        "plt.subplot(1, 2, 1)\n",
        "sns.barplot(x=friday_cluster_delay.index, y=friday_cluster_delay.values)\n",
        "plt.title(\"Train Delay on Friday and Clusters\")\n",
        "plt.xlabel(\"Cluster\")\n",
        "plt.ylabel(\"Total Delay (minutes)\")"
      ],
      "metadata": {
        "colab": {
          "base_uri": "https://localhost:8080/",
          "height": 581
        },
        "id": "ci3j6Fcg2Jhw",
        "outputId": "0d4a9402-aa72-4b23-870e-8b14021ee739"
      },
      "execution_count": 88,
      "outputs": [
        {
          "output_type": "execute_result",
          "data": {
            "text/plain": [
              "Text(0, 0.5, 'Total Delay (minutes)')"
            ]
          },
          "metadata": {},
          "execution_count": 88
        },
        {
          "output_type": "display_data",
          "data": {
            "text/plain": [
              "<Figure size 1200x600 with 1 Axes>"
            ],
            "image/png": "[encoded data removed]"
          },
          "metadata": {}
        }
      ]
    },
    {
      "cell_type": "code",
      "source": [
        "plt.subplot(1, 2, 2)\n",
        "sns.barplot(x=rush_hour_cluster_delay.index, y=rush_hour_cluster_delay.values)\n",
        "plt.title(\"Cluster Train Delays for Rush Hour on Weekday\")\n",
        "plt.xlabel(\"Cluster\")\n",
        "plt.ylabel(\"Total Delay (minutes)\")\n",
        "\n",
        "plt.tight_layout()\n",
        "plt.show()"
      ],
      "metadata": {
        "colab": {
          "base_uri": "https://localhost:8080/",
          "height": 487
        },
        "id": "yd4ocd722UII",
        "outputId": "f2bafc5e-3870-493b-b566-c157a55febcb"
      },
      "execution_count": 89,
      "outputs": [
        {
          "output_type": "display_data",
          "data": {
            "text/plain": [
              "<Figure size 640x480 with 1 Axes>"
            ],
            "image/png": "[encoded data removed]"
          },
          "metadata": {}
        }
      ]
    },
    {
      "cell_type": "markdown",
      "source": [
        "# T-SNE and GMM\n",
        "\n",
        "\n"
      ],
      "metadata": {
        "id": "yo7Hp_QbAj19"
      }
    },
    {
      "cell_type": "code",
      "source": [
        "# Define range of K values\n",
        "k_values = range(4, 11)  # Range of K values from 4 to 10\n",
        "\n",
        "# Dictionary to store silhouette scores for each K value\n",
        "silhouette_scores = {}\n",
        "\n",
        "# Define preprocessing steps for numerical features\n",
        "preprocessor = ColumnTransformer(\n",
        "    transformers=[\n",
        "        ('num', StandardScaler(), selected_data_numeric.columns)\n",
        "    ])\n",
        "\n",
        "# Apply preprocessing to numerical features\n",
        "selected_data_scaled = preprocessor.fit_transform(selected_data_numeric)\n",
        "selected_data_scaled_df = pd.DataFrame(selected_data_scaled, columns=selected_data_numeric.columns)\n",
        "\n",
        "# Iterate over different values of K\n",
        "for k in k_values:\n",
        "    # Define GMM pipeline for current K value\n",
        "    gmm_pipeline = Pipeline([\n",
        "        ('gmm', GaussianMixture(n_components=k, random_state=42))\n",
        "    ])\n",
        "\n",
        "    # Fit pipeline\n",
        "    gmm_pipeline.fit(selected_data_scaled_df)\n",
        "\n",
        "    # Get cluster labels\n",
        "    cluster_labels = gmm_pipeline.named_steps['gmm'].predict(selected_data_scaled_df)\n",
        "\n",
        "    # Calculate silhouette score\n",
        "    silhouette_avg = silhouette_score(selected_data_scaled_df, cluster_labels)\n",
        "    silhouette_scores[k] = silhouette_avg\n",
        "\n",
        "    print(f\"Silhouette Score for K={k}: {silhouette_avg}\")\n",
        "\n",
        "# Visualize silhouette scores\n",
        "plt.plot(list(silhouette_scores.keys()), list(silhouette_scores.values()), marker='o')\n",
        "plt.title('Silhouette Scores for Different Numbers of Clusters')\n",
        "plt.xlabel('Number of Clusters (K)')\n",
        "plt.ylabel('Silhouette Score')\n",
        "plt.xticks(k_values)\n",
        "plt.grid(True)\n",
        "plt.show()\n"
      ],
      "metadata": {
        "colab": {
          "base_uri": "https://localhost:8080/",
          "height": 591
        },
        "id": "YadvpmufDZ8O",
        "outputId": "7ed764e7-b3e2-4e15-d1fc-7092d8d38d51"
      },
      "execution_count": 106,
      "outputs": [
        {
          "output_type": "stream",
          "name": "stdout",
          "text": [
            "Silhouette Score for K=4: 0.5138237971729359\n",
            "Silhouette Score for K=5: 0.5681100390330704\n",
            "Silhouette Score for K=6: 0.5687098269149007\n",
            "Silhouette Score for K=7: 0.5737100910944891\n",
            "Silhouette Score for K=8: 0.5761075273880479\n",
            "Silhouette Score for K=9: 0.576131851695881\n",
            "Silhouette Score for K=10: 0.6468683565053005\n"
          ]
        },
        {
          "output_type": "display_data",
          "data": {
            "text/plain": [
              "<Figure size 640x480 with 1 Axes>"
            ],
            "image/png": "[encoded data removed]"
          },
          "metadata": {}
        }
      ]
    },
    {
      "cell_type": "code",
      "source": [
        "selected_data.head()"
      ],
      "metadata": {
        "colab": {
          "base_uri": "https://localhost:8080/",
          "height": 204
        },
        "id": "oR46YgI0hRWa",
        "outputId": "7a19289b-c2af-4b3f-d62b-1265083a879c"
      },
      "execution_count": 112,
      "outputs": [
        {
          "output_type": "execute_result",
          "data": {
            "text/plain": [
              "   day_of_week  hour_of_day                 from                   to  \\\n",
              "0            4           23  Newark Penn Station  Newark Penn Station   \n",
              "1            4           23  Newark Penn Station                Union   \n",
              "2            4           23                Union         Roselle Park   \n",
              "3            4           23         Roselle Park             Cranford   \n",
              "4            4           23             Cranford            Westfield   \n",
              "\n",
              "             line  delay_minutes  cluster  \n",
              "0  Raritan Valley       2.150000        5  \n",
              "1  Raritan Valley       0.016667        0  \n",
              "2  Raritan Valley       1.066667        0  \n",
              "3  Raritan Valley       0.516667        0  \n",
              "4  Raritan Valley       0.016667        0  "
            ],
            "text/html": [
              "\n",
              "  <div id=\"df-d90429a6-229a-4467-9107-516e77afa8ce\" class=\"colab-df-container\">\n",
              "    <div>\n",
              "<style scoped>\n",
              "    .dataframe tbody tr th:only-of-type {\n",
              "        vertical-align: middle;\n",
              "    }\n",
              "\n",
              "    .dataframe tbody tr th {\n",
              "        vertical-align: top;\n",
              "    }\n",
              "\n",
              "    .dataframe thead th {\n",
              "        text-align: right;\n",
              "    }\n",
              "</style>\n",
              "<table border=\"1\" class=\"dataframe\">\n",
              "  <thead>\n",
              "    <tr style=\"text-align: right;\">\n",
              "      <th></th>\n",
              "      <th>day_of_week</th>\n",
              "      <th>hour_of_day</th>\n",
              "      <th>from</th>\n",
              "      <th>to</th>\n",
              "      <th>line</th>\n",
              "      <th>delay_minutes</th>\n",
              "      <th>cluster</th>\n",
              "    </tr>\n",
              "  </thead>\n",
              "  <tbody>\n",
              "    <tr>\n",
              "      <th>0</th>\n",
              "      <td>4</td>\n",
              "      <td>23</td>\n",
              "      <td>Newark Penn Station</td>\n",
              "      <td>Newark Penn Station</td>\n",
              "      <td>Raritan Valley</td>\n",
              "      <td>2.150000</td>\n",
              "      <td>5</td>\n",
              "    </tr>\n",
              "    <tr>\n",
              "      <th>1</th>\n",
              "      <td>4</td>\n",
              "      <td>23</td>\n",
              "      <td>Newark Penn Station</td>\n",
              "      <td>Union</td>\n",
              "      <td>Raritan Valley</td>\n",
              "      <td>0.016667</td>\n",
              "      <td>0</td>\n",
              "    </tr>\n",
              "    <tr>\n",
              "      <th>2</th>\n",
              "      <td>4</td>\n",
              "      <td>23</td>\n",
              "      <td>Union</td>\n",
              "      <td>Roselle Park</td>\n",
              "      <td>Raritan Valley</td>\n",
              "      <td>1.066667</td>\n",
              "      <td>0</td>\n",
              "    </tr>\n",
              "    <tr>\n",
              "      <th>3</th>\n",
              "      <td>4</td>\n",
              "      <td>23</td>\n",
              "      <td>Roselle Park</td>\n",
              "      <td>Cranford</td>\n",
              "      <td>Raritan Valley</td>\n",
              "      <td>0.516667</td>\n",
              "      <td>0</td>\n",
              "    </tr>\n",
              "    <tr>\n",
              "      <th>4</th>\n",
              "      <td>4</td>\n",
              "      <td>23</td>\n",
              "      <td>Cranford</td>\n",
              "      <td>Westfield</td>\n",
              "      <td>Raritan Valley</td>\n",
              "      <td>0.016667</td>\n",
              "      <td>0</td>\n",
              "    </tr>\n",
              "  </tbody>\n",
              "</table>\n",
              "</div>\n",
              "    <div class=\"colab-df-buttons\">\n",
              "\n",
              "  <div class=\"colab-df-container\">\n",
              "    <button class=\"colab-df-convert\" onclick=\"convertToInteractive('df-d90429a6-229a-4467-9107-516e77afa8ce')\"\n",
              "            title=\"Convert this dataframe to an interactive table.\"\n",
              "            style=\"display:none;\">\n",
              "\n",
              "  <svg xmlns=\"http://www.w3.org/2000/svg\" height=\"24px\" viewBox=\"0 -960 960 960\">\n",
              "    <path d=\"M120-120v-720h720v720H120Zm60-500h600v-160H180v160Zm220 220h160v-160H400v160Zm0 220h160v-160H400v160ZM180-400h160v-160H180v160Zm440 0h160v-160H620v160ZM180-180h160v-160H180v160Zm440 0h160v-160H620v160Z\"/>\n",
              "  </svg>\n",
              "    </button>\n",
              "\n",
              "  <style>\n",
              "    .colab-df-container {\n",
              "      display:flex;\n",
              "      gap: 12px;\n",
              "    }\n",
              "\n",
              "    .colab-df-convert {\n",
              "      background-color: #E8F0FE;\n",
              "      border: none;\n",
              "      border-radius: 50%;\n",
              "      cursor: pointer;\n",
              "      display: none;\n",
              "      fill: #1967D2;\n",
              "      height: 32px;\n",
              "      padding: 0 0 0 0;\n",
              "      width: 32px;\n",
              "    }\n",
              "\n",
              "    .colab-df-convert:hover {\n",
              "      background-color: #E2EBFA;\n",
              "      box-shadow: 0px 1px 2px rgba(60, 64, 67, 0.3), 0px 1px 3px 1px rgba(60, 64, 67, 0.15);\n",
              "      fill: #174EA6;\n",
              "    }\n",
              "\n",
              "    .colab-df-buttons div {\n",
              "      margin-bottom: 4px;\n",
              "    }\n",
              "\n",
              "    [theme=dark] .colab-df-convert {\n",
              "      background-color: #3B4455;\n",
              "      fill: #D2E3FC;\n",
              "    }\n",
              "\n",
              "    [theme=dark] .colab-df-convert:hover {\n",
              "      background-color: #434B5C;\n",
              "      box-shadow: 0px 1px 3px 1px rgba(0, 0, 0, 0.15);\n",
              "      filter: drop-shadow(0px 1px 2px rgba(0, 0, 0, 0.3));\n",
              "      fill: #FFFFFF;\n",
              "    }\n",
              "  </style>\n",
              "\n",
              "    <script>\n",
              "      const buttonEl =\n",
              "        document.querySelector('#df-d90429a6-229a-4467-9107-516e77afa8ce button.colab-df-convert');\n",
              "      buttonEl.style.display =\n",
              "        google.colab.kernel.accessAllowed ? 'block' : 'none';\n",
              "\n",
              "      async function convertToInteractive(key) {\n",
              "        const element = document.querySelector('#df-d90429a6-229a-4467-9107-516e77afa8ce');\n",
              "        const dataTable =\n",
              "          await google.colab.kernel.invokeFunction('convertToInteractive',\n",
              "                                                    [key], {});\n",
              "        if (!dataTable) return;\n",
              "\n",
              "        const docLinkHtml = 'Like what you see? Visit the ' +\n",
              "          '<a target=\"_blank\" href=https://colab.research.google.com/notebooks/data_table.ipynb>data table notebook</a>'\n",
              "          + ' to learn more about interactive tables.';\n",
              "        element.innerHTML = '';\n",
              "        dataTable['output_type'] = 'display_data';\n",
              "        await google.colab.output.renderOutput(dataTable, element);\n",
              "        const docLink = document.createElement('div');\n",
              "        docLink.innerHTML = docLinkHtml;\n",
              "        element.appendChild(docLink);\n",
              "      }\n",
              "    </script>\n",
              "  </div>\n",
              "\n",
              "\n",
              "<div id=\"df-11eafd01-e68f-4aa0-a810-b5cc695086f5\">\n",
              "  <button class=\"colab-df-quickchart\" onclick=\"quickchart('df-11eafd01-e68f-4aa0-a810-b5cc695086f5')\"\n",
              "            title=\"Suggest charts\"\n",
              "            style=\"display:none;\">\n",
              "\n",
              "<svg xmlns=\"http://www.w3.org/2000/svg\" height=\"24px\"viewBox=\"0 0 24 24\"\n",
              "     width=\"24px\">\n",
              "    <g>\n",
              "        <path d=\"M19 3H5c-1.1 0-2 .9-2 2v14c0 1.1.9 2 2 2h14c1.1 0 2-.9 2-2V5c0-1.1-.9-2-2-2zM9 17H7v-7h2v7zm4 0h-2V7h2v10zm4 0h-2v-4h2v4z\"/>\n",
              "    </g>\n",
              "</svg>\n",
              "  </button>\n",
              "\n",
              "<style>\n",
              "  .colab-df-quickchart {\n",
              "      --bg-color: #E8F0FE;\n",
              "      --fill-color: #1967D2;\n",
              "      --hover-bg-color: #E2EBFA;\n",
              "      --hover-fill-color: #174EA6;\n",
              "      --disabled-fill-color: #AAA;\n",
              "      --disabled-bg-color: #DDD;\n",
              "  }\n",
              "\n",
              "  [theme=dark] .colab-df-quickchart {\n",
              "      --bg-color: #3B4455;\n",
              "      --fill-color: #D2E3FC;\n",
              "      --hover-bg-color: #434B5C;\n",
              "      --hover-fill-color: #FFFFFF;\n",
              "      --disabled-bg-color: #3B4455;\n",
              "      --disabled-fill-color: #666;\n",
              "  }\n",
              "\n",
              "  .colab-df-quickchart {\n",
              "    background-color: var(--bg-color);\n",
              "    border: none;\n",
              "    border-radius: 50%;\n",
              "    cursor: pointer;\n",
              "    display: none;\n",
              "    fill: var(--fill-color);\n",
              "    height: 32px;\n",
              "    padding: 0;\n",
              "    width: 32px;\n",
              "  }\n",
              "\n",
              "  .colab-df-quickchart:hover {\n",
              "    background-color: var(--hover-bg-color);\n",
              "    box-shadow: 0 1px 2px rgba(60, 64, 67, 0.3), 0 1px 3px 1px rgba(60, 64, 67, 0.15);\n",
              "    fill: var(--button-hover-fill-color);\n",
              "  }\n",
              "\n",
              "  .colab-df-quickchart-complete:disabled,\n",
              "  .colab-df-quickchart-complete:disabled:hover {\n",
              "    background-color: var(--disabled-bg-color);\n",
              "    fill: var(--disabled-fill-color);\n",
              "    box-shadow: none;\n",
              "  }\n",
              "\n",
              "  .colab-df-spinner {\n",
              "    border: 2px solid var(--fill-color);\n",
              "    border-color: transparent;\n",
              "    border-bottom-color: var(--fill-color);\n",
              "    animation:\n",
              "      spin 1s steps(1) infinite;\n",
              "  }\n",
              "\n",
              "  @keyframes spin {\n",
              "    0% {\n",
              "      border-color: transparent;\n",
              "      border-bottom-color: var(--fill-color);\n",
              "      border-left-color: var(--fill-color);\n",
              "    }\n",
              "    20% {\n",
              "      border-color: transparent;\n",
              "      border-left-color: var(--fill-color);\n",
              "      border-top-color: var(--fill-color);\n",
              "    }\n",
              "    30% {\n",
              "      border-color: transparent;\n",
              "      border-left-color: var(--fill-color);\n",
              "      border-top-color: var(--fill-color);\n",
              "      border-right-color: var(--fill-color);\n",
              "    }\n",
              "    40% {\n",
              "      border-color: transparent;\n",
              "      border-right-color: var(--fill-color);\n",
              "      border-top-color: var(--fill-color);\n",
              "    }\n",
              "    60% {\n",
              "      border-color: transparent;\n",
              "      border-right-color: var(--fill-color);\n",
              "    }\n",
              "    80% {\n",
              "      border-color: transparent;\n",
              "      border-right-color: var(--fill-color);\n",
              "      border-bottom-color: var(--fill-color);\n",
              "    }\n",
              "    90% {\n",
              "      border-color: transparent;\n",
              "      border-bottom-color: var(--fill-color);\n",
              "    }\n",
              "  }\n",
              "</style>\n",
              "\n",
              "  <script>\n",
              "    async function quickchart(key) {\n",
              "      const quickchartButtonEl =\n",
              "        document.querySelector('#' + key + ' button');\n",
              "      quickchartButtonEl.disabled = true;  // To prevent multiple clicks.\n",
              "      quickchartButtonEl.classList.add('colab-df-spinner');\n",
              "      try {\n",
              "        const charts = await google.colab.kernel.invokeFunction(\n",
              "            'suggestCharts', [key], {});\n",
              "      } catch (error) {\n",
              "        console.error('Error during call to suggestCharts:', error);\n",
              "      }\n",
              "      quickchartButtonEl.classList.remove('colab-df-spinner');\n",
              "      quickchartButtonEl.classList.add('colab-df-quickchart-complete');\n",
              "    }\n",
              "    (() => {\n",
              "      let quickchartButtonEl =\n",
              "        document.querySelector('#df-11eafd01-e68f-4aa0-a810-b5cc695086f5 button');\n",
              "      quickchartButtonEl.style.display =\n",
              "        google.colab.kernel.accessAllowed ? 'block' : 'none';\n",
              "    })();\n",
              "  </script>\n",
              "</div>\n",
              "\n",
              "    </div>\n",
              "  </div>\n"
            ],
            "application/vnd.google.colaboratory.intrinsic+json": {
              "type": "dataframe",
              "variable_name": "selected_data",
              "summary": "{\n  \"name\": \"selected_data\",\n  \"rows\": 87172,\n  \"fields\": [\n    {\n      \"column\": \"day_of_week\",\n      \"properties\": {\n        \"dtype\": \"number\",\n        \"std\": 2,\n        \"min\": 0,\n        \"max\": 6,\n        \"num_unique_values\": 7,\n        \"samples\": [\n          4,\n          5,\n          2\n        ],\n        \"semantic_type\": \"\",\n        \"description\": \"\"\n      }\n    },\n    {\n      \"column\": \"hour_of_day\",\n      \"properties\": {\n        \"dtype\": \"number\",\n        \"std\": 5,\n        \"min\": 0,\n        \"max\": 23,\n        \"num_unique_values\": 24,\n        \"samples\": [\n          5,\n          16,\n          23\n        ],\n        \"semantic_type\": \"\",\n        \"description\": \"\"\n      }\n    },\n    {\n      \"column\": \"from\",\n      \"properties\": {\n        \"dtype\": \"category\",\n        \"num_unique_values\": 156,\n        \"samples\": [\n          \"Paterson\",\n          \"Highland Avenue\",\n          \"Mountain Station\"\n        ],\n        \"semantic_type\": \"\",\n        \"description\": \"\"\n      }\n    },\n    {\n      \"column\": \"to\",\n      \"properties\": {\n        \"dtype\": \"category\",\n        \"num_unique_values\": 155,\n        \"samples\": [\n          \"Madison\",\n          \"Upper Montclair\",\n          \"Aberdeen-Matawan\"\n        ],\n        \"semantic_type\": \"\",\n        \"description\": \"\"\n      }\n    },\n    {\n      \"column\": \"line\",\n      \"properties\": {\n        \"dtype\": \"category\",\n        \"num_unique_values\": 11,\n        \"samples\": [\n          \"Gladstone Branch\",\n          \"Raritan Valley\",\n          \"Montclair-Boonton\"\n        ],\n        \"semantic_type\": \"\",\n        \"description\": \"\"\n      }\n    },\n    {\n      \"column\": \"delay_minutes\",\n      \"properties\": {\n        \"dtype\": \"number\",\n        \"std\": 10.25310119020857,\n        \"min\": 0.0,\n        \"max\": 182.0,\n        \"num_unique_values\": 1761,\n        \"samples\": [\n          33.2,\n          16.31666666666667,\n          19.05\n        ],\n        \"semantic_type\": \"\",\n        \"description\": \"\"\n      }\n    },\n    {\n      \"column\": \"cluster\",\n      \"properties\": {\n        \"dtype\": \"int32\",\n        \"num_unique_values\": 10,\n        \"samples\": [\n          6,\n          0,\n          8\n        ],\n        \"semantic_type\": \"\",\n        \"description\": \"\"\n      }\n    }\n  ]\n}"
            }
          },
          "metadata": {},
          "execution_count": 112
        }
      ]
    },
    {
      "cell_type": "code",
      "source": [
        "# Combine cluster labels with the original data\n",
        "selected_data_with_clusters = pd.concat([selected_data, pd.Series(cluster_labels, name='cluster_labels')], axis=1)\n",
        "selected_data_with_clusters['cluster_labels'].fillna(1, inplace=True)\n",
        "selected_data_with_clusters['cluster_labels'] = selected_data_with_clusters['cluster_labels'].astype(int)\n",
        "# Calculate average delay for each cluster\n",
        "average_delay_by_cluster = selected_data_with_clusters.groupby('cluster_labels')['delay_minutes'].mean()\n",
        "\n",
        "# most train delay cluster for friday\n",
        "friday_cluster = selected_data_with_clusters[selected_data_with_clusters['day_of_week'] == 4].groupby('cluster_labels')['delay_minutes'].sum()\n",
        "\n",
        "# Which cluster contains the most train delays for the rush hour in the weekday?\n",
        "rush_hour_cluster = selected_data_with_clusters[(selected_data_with_clusters['day_of_week'] != 5) & (selected_data_with_clusters['day_of_week'] != 6) & (selected_data_with_clusters['hour_of_day'] >= 7) & (selected_data_with_clusters['hour_of_day'] <= 9)].groupby('cluster_labels')['delay_minutes'].sum()\n",
        "\n",
        "print(\"Cluster with the most train delay on Friday:\", friday_cluster)\n",
        "print(\"Cluster with the most train delays for rush hour in the weekday:\", rush_hour_cluster)\n",
        "\n"
      ],
      "metadata": {
        "colab": {
          "base_uri": "https://localhost:8080/"
        },
        "id": "0-BrlEWJDfPi",
        "outputId": "82b2cecd-be3b-408b-966a-973e65e52f57"
      },
      "execution_count": 127,
      "outputs": [
        {
          "output_type": "stream",
          "name": "stdout",
          "text": [
            "Cluster with the most train delay on Friday: cluster_labels\n",
            "0     2464.116667\n",
            "1    29105.716667\n",
            "2       25.816667\n",
            "3      135.933333\n",
            "4     4736.383333\n",
            "5       69.933333\n",
            "6      210.250000\n",
            "7      385.866667\n",
            "8      357.766667\n",
            "9    14725.200000\n",
            "Name: delay_minutes, dtype: float64\n",
            "Cluster with the most train delays for rush hour in the weekday: cluster_labels\n",
            "0      604.016667\n",
            "1    13372.183333\n",
            "2       98.783333\n",
            "3       39.366667\n",
            "4     3075.466667\n",
            "5      101.466667\n",
            "6      137.616667\n",
            "7       27.600000\n",
            "8      211.750000\n",
            "9     6694.316667\n",
            "Name: delay_minutes, dtype: float64\n"
          ]
        }
      ]
    },
    {
      "cell_type": "code",
      "source": [
        "# Visualize average delay for each cluster\n",
        "plt.figure(figsize=(10, 5))\n",
        "average_delay_by_cluster.plot(kind='bar')\n",
        "plt.title('Average Delay by Cluster')\n",
        "plt.xlabel('Cluster')\n",
        "plt.ylabel('Average Delay (minutes)')\n",
        "plt.xticks(rotation=0)\n",
        "plt.show()\n",
        "\n",
        "\n"
      ],
      "metadata": {
        "colab": {
          "base_uri": "https://localhost:8080/",
          "height": 487
        },
        "id": "BJAPLOD9iKTa",
        "outputId": "17de4edb-8dec-48c8-9c6b-825741ce7826"
      },
      "execution_count": 128,
      "outputs": [
        {
          "output_type": "display_data",
          "data": {
            "text/plain": [
              "<Figure size 1000x500 with 1 Axes>"
            ],
            "image/png": "[encoded data removed]"
          },
          "metadata": {}
        }
      ]
    },
    {
      "cell_type": "code",
      "source": [
        "# Visualize total delay for each cluster on Fridays\n",
        "plt.figure(figsize=(10, 5))\n",
        "friday_cluster.plot(kind='bar')\n",
        "plt.title('Total Delay by Cluster on Fridays')\n",
        "plt.xlabel('Cluster')\n",
        "plt.ylabel('Total Delay (minutes)')\n",
        "plt.xticks(rotation=0)\n",
        "plt.show()\n",
        "\n"
      ],
      "metadata": {
        "colab": {
          "base_uri": "https://localhost:8080/",
          "height": 487
        },
        "id": "VHdx5Sd-i9gu",
        "outputId": "aef6d801-9c3d-4a59-d4a8-6678d1042f73"
      },
      "execution_count": 129,
      "outputs": [
        {
          "output_type": "display_data",
          "data": {
            "text/plain": [
              "<Figure size 1000x500 with 1 Axes>"
            ],
            "image/png": "[encoded data removed]"
          },
          "metadata": {}
        }
      ]
    },
    {
      "cell_type": "code",
      "source": [
        "# Visualize total delay for each cluster during rush hour on weekdays\n",
        "plt.figure(figsize=(10, 5))\n",
        "rush_hour_cluster.plot(kind='bar')\n",
        "plt.title('Total Delay by Cluster during Rush Hour on Weekdays')\n",
        "plt.xlabel('Cluster')\n",
        "plt.ylabel('Total Delay (minutes)')\n",
        "plt.xticks(rotation=0)\n",
        "plt.show()"
      ],
      "metadata": {
        "colab": {
          "base_uri": "https://localhost:8080/",
          "height": 487
        },
        "id": "FenMCrwsi_fk",
        "outputId": "c53fc5fb-655b-48ef-b771-d90965a65fb6"
      },
      "execution_count": 130,
      "outputs": [
        {
          "output_type": "display_data",
          "data": {
            "text/plain": [
              "<Figure size 1000x500 with 1 Axes>"
            ],
            "image/png": "[encoded data removed]"
          },
          "metadata": {}
        }
      ]
    },
    {
      "cell_type": "markdown",
      "source": [
        "# Inference and Conclusion:\n",
        "\n",
        "Silhouette scores were computed for k values ranging from 4 to 10. The optimal number of clusters was determined based on the hightest silhoutte scores.\n",
        "\n",
        "**For K-means with PCA:**\n",
        "\n",
        "The application of PCA (Principal Component Analysis) in conjunction with K-means clustering on NJ Transit train delay data has provided valuable insights into the underlying structure and patterns within the dataset.\n",
        "\n",
        "The silhouette scores for different values of K (number of clusters) ranged from approximately 0.646 to 0.812. These scores indicate a high degree of separation between clusters, suggesting that the chosen features adequately capture the variability in the data.\n",
        "\n",
        "Further analysis identified clusters with the highest delays on Fridays and during rush hours on weekdays.\n",
        "\n",
        "**GMM Clustering with t-SNE:**\n",
        "\n",
        "The t-SNE algorithm was utilized to visualize the data in two dimensions, preserving local structures and relationships.\n",
        "GMM clustering was applied to the reduced-dimensional data to identify clusters based on train delay patterns.\n",
        "Silhouette scores were computed to determine the optimal number of clusters, ensuring meaningful segmentation of the data.\n",
        "\n",
        "The silhouette scores for different values of K (number of clusters) ranged from approximately 0.5138 to 0.6468. The silhouette scores steadily increased as the number of clusters increased, reaching a peak of approximately 0.646 for K=10.\n",
        "\n",
        "The analysis of train delay data using unsupervised learning techniques yielded valuable insights into delay patterns and segmentation of the data into meaningful clusters. By identifying clusters with the highest delays on specific days and times, NJ Transit can implement targeted strategies to improve service reliability and customer satisfaction."
      ],
      "metadata": {
        "id": "d8VJFBpcmGsq"
      }
    }
  ]
}
