{
 "cells": [
  {
   "cell_type": "markdown",
   "metadata": {},
   "source": [
    "# Solutions to the assignments of checkpoint 1"
   ]
  },
  {
   "cell_type": "markdown",
   "metadata": {},
   "source": [
    "**1. What is the goal of Exploratory Data Analysis?**"
   ]
  },
  {
   "cell_type": "markdown",
   "metadata": {},
   "source": [
    "The goal of exploratory data analysis is to understand the data and find the relevant features that help explain our variable of interest."
   ]
  },
  {
   "cell_type": "markdown",
   "metadata": {},
   "source": [
    "**2. Suppose that you are given a dataset of customer product reviews for an e-commerce company. Each review is scored as a Likert-style survey item where 1 indicates a negative sentiment about the product and a 5 is positive. These reviews are collected on the company's website.**"
   ]
  },
  {
   "cell_type": "markdown",
   "metadata": {},
   "source": [
    "**a. What kind of problems do you expect there is in the raw data?**\n",
    "    \n",
    "* Raw data should be text with an informal language. Hence, we can expect to have things like emojis and abbreviations.\n",
    "\n",
    "* The punctuations might be placed inappropriately and because of this splitting the text into sentences might be problematic.\n",
    "\n",
    "* There may exist the usages of oxymoron and hence matching the sentences with sentiments might be tricky."
   ]
  },
  {
   "cell_type": "markdown",
   "metadata": {},
   "source": [
    "**b. If your task is to find out the useful features that give information on the sentiments of the reviews, how would you approach to this task and what kind of methods can you apply to accomplish it?**\n",
    "    \n",
    "We need to find some patterns in the data that give us information regarding the sentiments. If we can find out different patterns for each sentiment, then we can Followings are possible:\n",
    "\n",
    "* We may try to find the most occurring words in each sentiment level.\n",
    "\n",
    "* We may try to find the most occurring word pairs in each sentiment level.\n",
    "\n",
    "* We may treat some keywords as indicators of sentiment. For example, \"awesome\" might be related with the sentiment."
   ]
  },
  {
   "cell_type": "markdown",
   "metadata": {},
   "source": [
    "**c. Try to identify some potential useful features you can derive from the raw data. How can you derive them and how can you assess the usefulness of those features?**"
   ]
  },
  {
   "cell_type": "markdown",
   "metadata": {},
   "source": [
    "Some potential positive keywords: awesome, great, astonishing, perfect.\n",
    "Some potential negative keywords: terrible, disaster, failure.\n",
    "\n",
    "To be able to derive these features from the raw data, we need to process it. Then we can compare their number of occurrences for each category. If a feature occurrs in a sentiment very frequently and very rarely in the other, then that feature would be useful in distinguishing the sentiments."
   ]
  }
 ],
 "metadata": {
  "kernelspec": {
   "display_name": "Python 3",
   "language": "python",
   "name": "python3"
  },
  "language_info": {
   "codemirror_mode": {
    "name": "ipython",
    "version": 3
   },
   "file_extension": ".py",
   "mimetype": "text/x-python",
   "name": "python",
   "nbconvert_exporter": "python",
   "pygments_lexer": "ipython3",
   "version": "3.6.5"
  },
  "latex_envs": {
   "LaTeX_envs_menu_present": true,
   "autoclose": false,
   "autocomplete": true,
   "bibliofile": "biblio.bib",
   "cite_by": "apalike",
   "current_citInitial": 1,
   "eqLabelWithNumbers": true,
   "eqNumInitial": 1,
   "hotkeys": {
    "equation": "Ctrl-E",
    "itemize": "Ctrl-I"
   },
   "labels_anchors": false,
   "latex_user_defs": false,
   "report_style_numbering": false,
   "user_envs_cfg": false
  },
  "varInspector": {
   "cols": {
    "lenName": 16,
    "lenType": 16,
    "lenVar": 40
   },
   "kernels_config": {
    "python": {
     "delete_cmd_postfix": "",
     "delete_cmd_prefix": "del ",
     "library": "var_list.py",
     "varRefreshCmd": "print(var_dic_list())"
    },
    "r": {
     "delete_cmd_postfix": ") ",
     "delete_cmd_prefix": "rm(",
     "library": "var_list.r",
     "varRefreshCmd": "cat(var_dic_list()) "
    }
   },
   "types_to_exclude": [
    "module",
    "function",
    "builtin_function_or_method",
    "instance",
    "_Feature"
   ],
   "window_display": false
  }
 },
 "nbformat": 4,
 "nbformat_minor": 2
}