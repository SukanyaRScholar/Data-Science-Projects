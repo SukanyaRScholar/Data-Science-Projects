{
  "nbformat": 4,
  "nbformat_minor": 0,
  "metadata": {
    "colab": {
      "name": "Copy of multiclass classifiers assignment solution.ipynb",
      "version": "0.3.2",
      "provenance": [],
      "collapsed_sections": []
    },
    "kernelspec": {
      "name": "python3",
      "display_name": "Python 3"
    }
  },
  "cells": [
    {
      "cell_type": "markdown",
      "metadata": {
        "id": "iD1KjC8-hl_P",
        "colab_type": "text"
      },
      "source": [
        "# Multiclass Classifiers\n",
        "In this assignment you will load a dataset and train two models to perform multiclass classification and compare the results of the models. The dataset is the **digits** dataset available from the sklearn's *datasets* library. This dataset contain 1797 samples of written digits. The goal is to correctly identify digits from 0 to 9."
      ]
    },
    {
      "cell_type": "markdown",
      "metadata": {
        "id": "sZYeUk8FjHsd",
        "colab_type": "text"
      },
      "source": [
        "## Load the data\n",
        "\n",
        "1. Import the *load_digits* function from the *sklearn.datasets* library.\n",
        "2. Invoke *load_digits* with the *return_X_y* parameter set to true and store the returned dataset in variable **X** and **y**."
      ]
    },
    {
      "cell_type": "code",
      "metadata": {
        "id": "yU07T75-he8U",
        "colab_type": "code",
        "colab": {}
      },
      "source": [
        "from sklearn.datasets import load_digits\n",
        "X, y = load_digits(return_X_y=True)"
      ],
      "execution_count": 0,
      "outputs": []
    },
    {
      "cell_type": "markdown",
      "metadata": {
        "id": "isPHrCpCj5lL",
        "colab_type": "text"
      },
      "source": [
        "## Exploratory Data Analysis\n",
        "Perform a few exploratory  steps including:\n",
        "\n",
        "1. Display the number of rows of data returned.\n",
        "2. Display the number of features in the dataset.\n",
        "3. Use Numpy's **bincount** to display how many samples belong to each class. Is this a balanced dataset?"
      ]
    },
    {
      "cell_type": "code",
      "metadata": {
        "id": "EX7gj8IGkTu7",
        "colab_type": "code",
        "outputId": "ff5d56ad-5596-4e21-dbb5-b328ee0b96e6",
        "colab": {
          "base_uri": "https://localhost:8080/",
          "height": 68
        }
      },
      "source": [
        "import numpy as np\n",
        "\n",
        "print('The number of rows in the dataset is {:d}'.format(X.shape[0]))\n",
        "print('The number of features in the dataset is {:d}'.format(X.shape[1]))\n",
        "np.bincount(y)"
      ],
      "execution_count": 0,
      "outputs": [
        {
          "output_type": "stream",
          "text": [
            "The number of rows in the dataset is 1797\n",
            "The number of features in the dataset is 64\n"
          ],
          "name": "stdout"
        },
        {
          "output_type": "execute_result",
          "data": {
            "text/plain": [
              "array([178, 182, 177, 183, 181, 182, 181, 179, 174, 180])"
            ]
          },
          "metadata": {
            "tags": []
          },
          "execution_count": 4
        }
      ]
    },
    {
      "cell_type": "markdown",
      "metadata": {
        "id": "6AdSZLoalPDO",
        "colab_type": "text"
      },
      "source": [
        "## Prepare training and testing data\n",
        "1. Use *train_test_split* to split the dataset into a training set and a test set. Set the proportion of test data to 20%. Set a random state value so that the results will be repeatable."
      ]
    },
    {
      "cell_type": "code",
      "metadata": {
        "id": "K8oYDSclmIRw",
        "colab_type": "code",
        "colab": {}
      },
      "source": [
        "from sklearn.model_selection import train_test_split\n",
        "\n",
        "X_train, X_test, y_train, y_test = train_test_split(X, y, test_size=0.2, random_state=40)"
      ],
      "execution_count": 0,
      "outputs": []
    },
    {
      "cell_type": "markdown",
      "metadata": {
        "id": "of-cq2s0mdx6",
        "colab_type": "text"
      },
      "source": [
        "## Cross validation with Logistic Regression\n",
        "In this step you will create a LogisticRegression classifier and use 5-fold cross validation to train the model.\n",
        "\n",
        "1. Import *LogisticRegression* classifier from sklearn.\n",
        "2. Instantiate a LogisticRegression classifier with the 'lbfgs' solver and 'ovr' multiclass strategy. You may have to set the maximum number of iterations to 1000.\n",
        "3. Perform cross validation on the model.\n",
        "4. Print the cross validation scores and the mean of the cross validation scores."
      ]
    },
    {
      "cell_type": "code",
      "metadata": {
        "id": "UMdjcXaplne9",
        "colab_type": "code",
        "outputId": "48b86e9c-957a-4401-eae2-955d5abccde3",
        "colab": {
          "base_uri": "https://localhost:8080/",
          "height": 51
        }
      },
      "source": [
        "from sklearn.linear_model import LogisticRegression\n",
        "from sklearn.model_selection import cross_val_score\n",
        "\n",
        "lr_clf = LogisticRegression(solver='lbfgs', multi_class='ovr', max_iter=1000)\n",
        "lr_cv_scores = cross_val_score(lr_clf, X_train, y_train, cv = 5)\n",
        "\n",
        "print('Accuracy scores for the 5 folds: ', lr_cv_scores)\n",
        "print('Mean cross validatiion score: {:.3f}'.format(np.mean(lr_cv_scores)))"
      ],
      "execution_count": 0,
      "outputs": [
        {
          "output_type": "stream",
          "text": [
            "Accuracy scores for the 5 folds:  [0.94827586 0.94827586 0.9550173  0.94405594 0.95035461]\n",
            "Mean cross validatiion score: 0.949\n"
          ],
          "name": "stdout"
        }
      ]
    },
    {
      "cell_type": "markdown",
      "metadata": {
        "id": "PcZHs1vYoRBN",
        "colab_type": "text"
      },
      "source": [
        "## Cross validation with RandomForest\n",
        "Perform the same steps as above but this time with a RandomForestClassifier."
      ]
    },
    {
      "cell_type": "code",
      "metadata": {
        "id": "pCD2ROdToySP",
        "colab_type": "code",
        "outputId": "87cca9b9-aeae-495b-da28-574d445f23c4",
        "colab": {
          "base_uri": "https://localhost:8080/",
          "height": 51
        }
      },
      "source": [
        "from sklearn.ensemble import RandomForestClassifier\n",
        "\n",
        "rf_clf = RandomForestClassifier(n_estimators=24)\n",
        "rf_cv_scores = cross_val_score(rf_clf, X_train, y_train, cv = 5)\n",
        "\n",
        "print('Accuracy scores for the 5 folds: ', rf_cv_scores)\n",
        "print('Mean cross validatiion score: {:.3f}'.format(np.mean(rf_cv_scores)))"
      ],
      "execution_count": 0,
      "outputs": [
        {
          "output_type": "stream",
          "text": [
            "Accuracy scores for the 5 folds:  [0.94827586 0.96206897 0.98269896 0.95104895 0.96099291]\n",
            "Mean cross validatiion score: 0.961\n"
          ],
          "name": "stdout"
        }
      ]
    }
  ]
}