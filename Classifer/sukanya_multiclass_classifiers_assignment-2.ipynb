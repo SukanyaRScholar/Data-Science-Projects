{
  "cells": [
    {
      "cell_type": "markdown",
      "metadata": {
        "id": "iD1KjC8-hl_P"
      },
      "source": [
        "## Multiclass classifiers\n",
        "In this assessment, you will load a dataset and train two models to perform multiclass classification. Then you will compare the results of the models. The dataset is the *digits* dataset available from scikit-learn's datasets library. This dataset contains 1,797 samples of written digits, and your goal is to correctly identify digits from 0 to 9."
      ]
    },
    {
      "cell_type": "markdown",
      "metadata": {
        "id": "sZYeUk8FjHsd"
      },
      "source": [
        "## Load the data\n",
        "\n",
        "1. Import the `load_digits()` function from the sklearn.datasets library.\n",
        "2. Invoke `load_digits()` with the `return_X_y` parameter set to `True`. Store the returned dataset in variables `X` and `y`."
      ]
    },
    {
      "cell_type": "code",
      "execution_count": 1,
      "metadata": {
        "id": "yU07T75-he8U"
      },
      "outputs": [],
      "source": [
        "from sklearn.datasets import load_digits\n",
        "X, y = load_digits(return_X_y=True)"
      ]
    },
    {
      "cell_type": "markdown",
      "metadata": {
        "id": "isPHrCpCj5lL"
      },
      "source": [
        "## Exploratory data analysis\n",
        "Perform a few exploratory  steps, including the following:\n",
        "\n",
        "1. Display the number of rows of data returned.\n",
        "2. Display the number of features in the dataset.\n",
        "3. Use NumPy's `bincount()` to display how many samples belong to each class. Is this a balanced dataset?"
      ]
    },
    {
      "cell_type": "code",
      "execution_count": 2,
      "metadata": {
        "colab": {
          "base_uri": "https://localhost:8080/"
        },
        "id": "EX7gj8IGkTu7",
        "outputId": "9cb59665-c624-4757-ef14-80115d51e7c3"
      },
      "outputs": [
        {
          "output_type": "stream",
          "name": "stdout",
          "text": [
            "The number of rows in the dataset is 1797\n",
            "The number of features in the dataset is 64\n",
            "The dataset is not balanced\n"
          ]
        }
      ],
      "source": [
        "import numpy as np\n",
        "\n",
        "print('The number of rows in the dataset is {:d}'.format(X.shape[0]))\n",
        "print('The number of features in the dataset is {:d}'.format(X.shape[1]))\n",
        "\n",
        "#to find how many in each\n",
        "num_classes=np.bincount(y)\n",
        "\n",
        "#to defined if balanced dataset\n",
        "is_balanced_dataset = np.all(num_classes == num_classes[0])\n",
        "\n",
        "if is_balanced_dataset:\n",
        "    print(\"The dataset is balanced\")\n",
        "else:\n",
        "    print(\"The dataset is not balanced\")"
      ]
    },
    {
      "cell_type": "markdown",
      "metadata": {
        "id": "6AdSZLoalPDO"
      },
      "source": [
        "## Prepare training and testing data\n",
        "1. Use `train_test_split()` to split the dataset into a training set and a test set. Set the proportion of test data to 20%. Set a random state value so that the results will be repeatable."
      ]
    },
    {
      "cell_type": "code",
      "execution_count": 3,
      "metadata": {
        "id": "K8oYDSclmIRw"
      },
      "outputs": [],
      "source": [
        "from sklearn.model_selection import train_test_split\n",
        "\n",
        "X_train, X_test, y_train, y_test = train_test_split(X, y, test_size=0.2, random_state=30)"
      ]
    },
    {
      "cell_type": "markdown",
      "metadata": {
        "id": "of-cq2s0mdx6"
      },
      "source": [
        "## Cross-validation with logistic regression\n",
        "In this step, you will create a `LogisticRegression` classifier and use five-fold cross-validation to train the model.\n",
        "\n",
        "1. Import a `LogisticRegression` classifier from scikit-learn.\n",
        "2. Instantiate a `LogisticRegression` classifier with the `lbfgs` solver and `ovr` multiclass strategy. You may have to set the maximum number of iterations to 1,000.\n",
        "3. Perform cross-validation on the model.\n",
        "4. Print the cross-validation scores and the mean of the cross-validation scores."
      ]
    },
    {
      "cell_type": "code",
      "execution_count": 4,
      "metadata": {
        "colab": {
          "base_uri": "https://localhost:8080/"
        },
        "id": "UMdjcXaplne9",
        "outputId": "fbb3c601-9f2e-4204-8682-476bed270165"
      },
      "outputs": [
        {
          "output_type": "stream",
          "name": "stdout",
          "text": [
            "Accuracy scores for the 5 folds:  [0.97569444 0.95138889 0.96167247 0.97560976 0.94425087]\n",
            "Mean cross validation score: 0.962\n"
          ]
        }
      ],
      "source": [
        "# Imports here\n",
        "from sklearn.linear_model import LogisticRegression\n",
        "from sklearn.model_selection import cross_val_score\n",
        "\n",
        "\n",
        "lr_clf = LogisticRegression(solver='lbfgs', max_iter=1000, multi_class='ovr')\n",
        "lr_cv_scores =cross_val_score(lr_clf, X_train, y_train, cv=5)\n",
        "\n",
        "print('Accuracy scores for the 5 folds: ', lr_cv_scores)\n",
        "print('Mean cross validation score: {:.3f}'.format(lr_cv_scores.mean()))"
      ]
    },
    {
      "cell_type": "markdown",
      "metadata": {
        "id": "PcZHs1vYoRBN"
      },
      "source": [
        "## Cross-validation with random forest\n",
        "Perform the same steps as above, but this time with a `RandomForestClassifier`."
      ]
    },
    {
      "cell_type": "code",
      "execution_count": 5,
      "metadata": {
        "colab": {
          "base_uri": "https://localhost:8080/"
        },
        "id": "pCD2ROdToySP",
        "outputId": "41eee006-8222-4783-8ab0-38f6ccc35d43"
      },
      "outputs": [
        {
          "output_type": "stream",
          "name": "stdout",
          "text": [
            "Accuracy scores for the 5 folds:  [0.96527778 0.96180556 0.96864111 0.97909408 0.95470383]\n",
            "Mean cross validation score: 0.966\n"
          ]
        }
      ],
      "source": [
        "# Imports here\n",
        "from sklearn.ensemble import RandomForestClassifier\n",
        "\n",
        "rf_clf = RandomForestClassifier(n_estimators=24)\n",
        "rf_cv_scores = cross_val_score(rf_clf, X_train, y_train, cv=5)\n",
        "\n",
        "print('Accuracy scores for the 5 folds: ', rf_cv_scores)\n",
        "print('Mean cross validation score: {:.3f}'.format(rf_cv_scores.mean()))"
      ]
    }
  ],
  "metadata": {
    "colab": {
      "provenance": []
    },
    "kernelspec": {
      "display_name": "Python 3 (ipykernel)",
      "language": "python",
      "name": "python3"
    },
    "language_info": {
      "codemirror_mode": {
        "name": "ipython",
        "version": 3
      },
      "file_extension": ".py",
      "mimetype": "text/x-python",
      "name": "python",
      "nbconvert_exporter": "python",
      "pygments_lexer": "ipython3",
      "version": "3.9.12"
    }
  },
  "nbformat": 4,
  "nbformat_minor": 0
}
